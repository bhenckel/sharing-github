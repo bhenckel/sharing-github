{
 "cells": [
  {
   "cell_type": "code",
   "execution_count": 144,
   "metadata": {},
   "outputs": [],
   "source": [
    "# ----- Disse packages skal bruges til køre notebooken! -----\n",
    "import numpy as np\n",
    "np.random.seed(seed=42)\n",
    "import matplotlib.pyplot as plt\n",
    "from scipy.stats import ttest_ind, norm\n",
    "import pandas as pd\n",
    "import lightgbm as lgb\n",
    "from sklearn.model_selection import train_test_split\n",
    "from sklearn.metrics import mean_absolute_error, mean_squared_error, r2_score"
   ]
  },
  {
   "cell_type": "code",
   "execution_count": 145,
   "metadata": {},
   "outputs": [],
   "source": [
    "# ----- Her defineret path to file for de udleverede datasæt! -----\n",
    "ptf_Opgave2 = 'Opgave2_DataScientistKoncernIT.csv' # !! Erstat med gyldig path !!\n",
    "pft_Opgave3 = 'Opgave3_DataScientistKoncernIT.csv' # !! Erstat med gyldig path !!\n",
    "ptf_Opgave4_1 = 'Opgave4_1_DataScientistKoncernIT.csv' # !! Erstat med gyldig path !!\n",
    "prf_Opgave4_2 = 'Opgave4_2_DataScientistKoncernIT.csv' # !! Erstat med gyldig path !!"
   ]
  },
  {
   "cell_type": "markdown",
   "metadata": {},
   "source": [
    "# Opgave 1"
   ]
  },
  {
   "cell_type": "markdown",
   "metadata": {},
   "source": [
    "### 1.1 - Hvilken fordel har median over gennemsnit?\n",
    "\n",
    "#### Svar: \n",
    "\n",
    "Medianen er mere robust overfor ekstreme målepunkter (\"outliers\"), der eventuelt kunne skyldes målefejl.\n",
    "\n",
    "Dette er illusteret ved at generere en lang liste tilfældige tal mellem 1 og 100 og dernæst tilføje 1% potentielle outliers. Grundet det høje talværdier bliver gennemsnitten påvirket, hvor medianen er mere stabil."
   ]
  },
  {
   "cell_type": "code",
   "execution_count": 146,
   "metadata": {},
   "outputs": [],
   "source": [
    "list1 = np.random.randint(1, 100, size=(10000,1))\n",
    "list2 = np.random.randint(1, 10000, size=(100, 1))\n",
    "list3 = np.concatenate([list1, list2])"
   ]
  },
  {
   "cell_type": "code",
   "execution_count": 147,
   "metadata": {},
   "outputs": [
    {
     "name": "stdout",
     "output_type": "stream",
     "text": [
      "List 1 average: 49.876\n",
      "List 1 median: 50.0\n",
      "List 3 average: 97.19227722772277\n",
      "List 3 median: 50.0\n"
     ]
    }
   ],
   "source": [
    "print(f\"List 1 average: {np.average(list1)}\")\n",
    "print(f\"List 1 median: {np.median(list1)}\")\n",
    "print(f\"List 3 average: {np.average(list3)}\")\n",
    "print(f\"List 3 median: {np.median(list3)}\")"
   ]
  },
  {
   "cell_type": "markdown",
   "metadata": {},
   "source": [
    "### 1.2 - Hvorfor siger man ofte at et neuralt netværk i ML er en \"black box\"? Hvorfor? Kan du give et eksempel på en ML algoritme som ikke er \"black box\", og hvorfor den ikke er det?\n",
    "\n",
    "#### Svar: \n",
    "\n",
    "Grunden til at et neuralt netværk uformelt bliver beskrevet som en \"black box\" er grundlæggende at der ikke tilsyneladende er en logisk eller forklarbar grund til dets beslutninger. Det arbejder med en repræsentation af data der eksisterer i et arbitrært højt dimensionelt rum og det samme gør dens beslutningsgrænse (\"decision boundary\"). Dette bliver yderligere forstærket af en generel tilfredshed ved blot at vide, hvor godt et neuralt netværk løser en given opgave, og ikke hvordan. Der findes en række metoder og værktøjer til at analysere hvordan ens netværk tager beslutninger, man kan vurdere feature importance, kigge på filtrene i ens CNN, bare for at nævne et par stykker.\n",
    "\n",
    "Det åbenlyse eksempel på en ML agoritme som ikke er en \"black box\" er en Random Forest (RF) algoritme. Hvilket er en samling af decision trees. Decision trees laver simple over/under beslutninger (\"cuts\") på variabler. Alle disse beslutninger taget i hvert eneste træ kan for hvert eneste eksempel følges og anskueliggøres. Man vil altså til hver en tid kunne give en konkret bud på, hvorfor algoritmen har taget en given beslutning."
   ]
  },
  {
   "cell_type": "markdown",
   "metadata": {},
   "source": [
    "### 1.3 - Du har fået en almindelig klassificerings opgave af en kunde med noget data og tilhørende label værdier, som du på fremtidig data skal kunne forudsige. Det er dog vigtigt for kunden at algoritmen er ret præcis, og din færdigtrænede algoritme rammer ikke helt den forventede præcision. Kunden vil derfor acceptere at algoritmen kun laver forudsigelser på nogle datapunkter, og springer andre over, for til gengæld at præcisionen øges på de forudsigelser der bliver lavet. Hvordan kan dette løses?\n",
    "\n",
    "#### Svar:\n",
    "\n",
    "Det kan løses på mange forskellige måder og den bedste løsning vil højst sandsygligt afhænge af problemstillingen og data. Min umiddelbare indskyldelse er at undersøge hvordan præcisionen af algoritmen afhænger af forskellige variabler. Formålet skulle være at finde et afgrænset område, hvor præcisionen er tilstrækkelig. Jeg kan bedste beskrive fremgangsmåden ved at introducere et eksempel.\n",
    "\n",
    "Det kan være at man er partikelfysiker og arbejder med klassifikation af partikler i ATLAS detektoren. Detektoren indeholder forskellige regioner, som alle modtager forskellige mændger partikler og måler med varierende præcision. Præcisionen af algoritmen vil derfor afhænge meget af hvilken region af detektoren dataen kommer fra og er kunden i opgaven fysikere fra ATLAS eksperimentet, vil man kunne opnå den ønskede effekt ved at begrænse ens model til bestemte regioner af detektoren.\n",
    "\n",
    "Præcisionen af ens algoritme er næsten altid højest der, hvor der er mest data. Det er derfor næsten altid muligt at implementere sin model således at det kun kigger på de mest typpiske tilfælde, men hvorvidt det altid er muligt at isolere disse ved en simpel sortering er ikke sikkert. Det kunne f.eks. være en del mere besværligt, hvis man har med billeddata at gøre.\n",
    "\n",
    "En anden meget oplagt måde at implementere noget der minder om den ønskede løsning af at lade algoritme forudsige på alle datapunkter (normalt er forudsigelsestiden lav), men kun tage de forudsigelser algoritmen giver en meget høj score (>0.99 eller lign.) og give resten af datapunkterne videre til personalet. Denne score kan vælges efter en ønsket TPR/FPR niveau ved brug af en ROC-curve."
   ]
  },
  {
   "cell_type": "markdown",
   "metadata": {},
   "source": [
    "### 1.4 - Din virksomhed har taget noget nyt software i brug som efter sigende skulle effektivisere arbejdstiden på typiske opgaver. Du er blevet bedt om at undersøge om den nye software har haft en effekt på arbejdstiden. Du er givet 2 datasæt som hver bare er en liste af total tid brugt på at løse opgaver. Den ene indeholder tider fra før den nye software blev taget i brug og den anden fra efter.\n",
    "### Du beslutter dig for at bruge en t-test. Hvilke antagelser har du lavet om data?\n",
    "### Vi antager herfra at softwaren HAR en positiv effekt på arbejdstiden, spørgsmålet er bare om vi kan vise dette ud fra de 2 datasæt:\n",
    "### Bliver det nemmere eller sværere at vise signifikant forskel mellem de to sæt hvis:\n",
    "### A) Antallet af samples i hvert sæt øges?\n",
    "### B) Den interne varians i hvert sæt øges?\n",
    "### C) De respektive gennemsnitsværdier i hvert datasæt ligger længere fra hinanden?\n",
    "### Hvad betyder p-værdien i en t-test?"
   ]
  },
  {
   "cell_type": "markdown",
   "metadata": {},
   "source": [
    "#### Svar:\n",
    "\n",
    "Den grundlæggende antalgelse der gøres ved brug af en t-test er at man måler på udafhængige normalfordelte distrubitioner, men grundet manglende statistik er spredning (variansen) på disse fordelinger ukendte og må antages ud fra data. Målingerne i en given distribution antages altså at være i.i.d. Ønsker man bruge en helt almindelig t-test antager man desunden at variansen af de to distributioner er ens. Denne antagelse er umiddelbart okay, da det er tale om de samme ansatte, dog vil nyt software uden tvivl kræve en tilvænningsfase med varierende længde!\n",
    "\n",
    "De næste 3 punkter er besvares ved brug af eksempler nedenfor!\n",
    "\n",
    "P-værdien i en t-test vurderer den statistiske signifikans af null-hypotesen om at fordelingenernes middelværdi er ens. P-værdien er altså en vurdering af, hvor sandsynligt det er, at hypotesen er sand. Værdier under en given grænse (gerne <0.01, <0.05, eller <0.1) indikerer altså at null hypotesen skal forkastes og at middelværdierne er forskellige."
   ]
  },
  {
   "cell_type": "code",
   "execution_count": 148,
   "metadata": {},
   "outputs": [
    {
     "name": "stdout",
     "output_type": "stream",
     "text": [
      "Ttest_indResult(statistic=2.1543827537077274, pvalue=0.03181176557992364)\n",
      "T-testen viser altså de to distrubitioner har forskellig middelværdi, med en p-værdi på 0.0318\n"
     ]
    },
    {
     "data": {
      "image/png": "[encoded data removed]",
      "text/plain": [
       "<Figure size 720x576 with 1 Axes>"
      ]
     },
     "metadata": {
      "needs_background": "light"
     },
     "output_type": "display_data"
    }
   ],
   "source": [
    "np.random.seed(seed=42)\n",
    "datasæt1 = norm.rvs(loc=5.5, scale=1.5, size=200)\n",
    "datasæt2 = norm.rvs(loc=5.0, scale=1.5, size=200)\n",
    "fig, ax = plt.subplots()\n",
    "hist1 = ax.hist(datasæt1, range=(-5,15), bins=20, alpha=0.5, label=\"Before\")\n",
    "hist2 = ax.hist(datasæt2, range=(-5,15), bins=20, alpha=0.5, label=\"After\")\n",
    "ax.legend()\n",
    "ttest1 = ttest_ind(datasæt1, datasæt2, equal_var=False)\n",
    "print(ttest1)\n",
    "print(\"T-testen viser altså de to distrubitioner har forskellig middelværdi, med en p-værdi på 0.0318\")"
   ]
  },
  {
   "cell_type": "markdown",
   "metadata": {},
   "source": [
    "A) Gør det nemmere. Dette skyldes at den statistiske usikkerhed på middelværdien (og spredningen) bliver mindre.\n",
    "\n",
    "Nedenstående celle viser et eksempel på dette."
   ]
  },
  {
   "cell_type": "code",
   "execution_count": 149,
   "metadata": {},
   "outputs": [
    {
     "name": "stdout",
     "output_type": "stream",
     "text": [
      "Ttest_indResult(statistic=2.6695837442090484, pvalue=0.007801495026485082)\n",
      "T-testen viser altså de to distrubitioner har forskellig middelværdi, med en p-værdi på 0.0078\n"
     ]
    },
    {
     "data": {
      "image/png": "[encoded data removed]",
      "text/plain": [
       "<Figure size 720x576 with 1 Axes>"
      ]
     },
     "metadata": {
      "needs_background": "light"
     },
     "output_type": "display_data"
    }
   ],
   "source": [
    "np.random.seed(seed=42)\n",
    "datasæt1_morestat = np.concatenate([datasæt1, norm.rvs(loc=5.5, scale=1.5, size=100)])\n",
    "datasæt2_morestat = np.concatenate([datasæt2, norm.rvs(loc=5.0, scale=1.5, size=100)])\n",
    "fig, ax = plt.subplots()\n",
    "_ = ax.hist(datasæt1_morestat, range=(-5,15), bins=20, alpha=0.5, label=\"Before (More Stat)\")\n",
    "_ = ax.hist(datasæt2_morestat, range=(-5,15), bins=20, alpha=0.5, label=\"After (More Stat)\")\n",
    "ax.legend()\n",
    "ttest2 = ttest_ind(datasæt1_morestat, datasæt2_morestat, equal_var=False)\n",
    "print(ttest2)\n",
    "print(\"T-testen viser altså de to distrubitioner har forskellig middelværdi, med en p-værdi på 0.0078\")"
   ]
  },
  {
   "cell_type": "markdown",
   "metadata": {},
   "source": [
    "B) Gør det sværere. Dette skyldes at en højere intern varians i hvert sæt vil medføre en større spredning (altså en breddere distribution) og t-testens konklusion vil derfor være mindre signifikant.\n",
    "\n",
    "Nedenstående celle viser et eksempel på dette."
   ]
  },
  {
   "cell_type": "code",
   "execution_count": 150,
   "metadata": {},
   "outputs": [
    {
     "name": "stdout",
     "output_type": "stream",
     "text": [
      "Ttest_indResult(statistic=0.764643419618449, pvalue=0.44493856920862573)\n",
      "T-testen viser altså at null hypotesen ikke kan forkastes, med en p-værdi på 0.4449\n"
     ]
    },
    {
     "data": {
      "image/png": "[encoded data removed]",
      "text/plain": [
       "<Figure size 720x576 with 1 Axes>"
      ]
     },
     "metadata": {
      "needs_background": "light"
     },
     "output_type": "display_data"
    }
   ],
   "source": [
    "np.random.seed(seed=42)\n",
    "datasæt1_morevar = norm.rvs(loc=5.5, scale=2.5, size=200)\n",
    "datasæt2_morevar = norm.rvs(loc=5.0, scale=2.5, size=200)\n",
    "fig, ax = plt.subplots()\n",
    "_ = ax.hist(datasæt1_morevar, range=(-5,15), bins=20, alpha=0.5, label=\"Before (More Var)\")\n",
    "_ = ax.hist(datasæt2_morevar, range=(-5,15), bins=20, alpha=0.5, label=\"After (More Var)\")\n",
    "ax.legend()\n",
    "ttest3 = ttest_ind(datasæt1_morevar, datasæt2_morevar, equal_var=False)\n",
    "print(ttest3)\n",
    "print(\"T-testen viser altså at null hypotesen ikke kan forkastes, med en p-værdi på 0.4449\")"
   ]
  },
  {
   "cell_type": "markdown",
   "metadata": {},
   "source": [
    "C) Gør det nemmere. Dette skyldes at selvom usikkerhederne på middelværdierne (og spredningen) ikke ændres bliver forskellen mere signifikant og derfor vil t-testens konklusion være mere signifikant."
   ]
  },
  {
   "cell_type": "code",
   "execution_count": 151,
   "metadata": {},
   "outputs": [
    {
     "name": "stdout",
     "output_type": "stream",
     "text": [
      "Ttest_indResult(statistic=4.933861421886278, pvalue=1.188582065413836e-06)\n",
      "T-testen viser altså de to distrubitioner har forskellig middelværdi, med en p-værdi på <0.0001\n"
     ]
    },
    {
     "data": {
      "image/png": "[encoded data removed]",
      "text/plain": [
       "<Figure size 720x576 with 1 Axes>"
      ]
     },
     "metadata": {
      "needs_background": "light"
     },
     "output_type": "display_data"
    }
   ],
   "source": [
    "np.random.seed(seed=42)\n",
    "datasæt1_moredist = norm.rvs(loc=5.7, scale=1.5, size=200)\n",
    "datasæt2_moredist = norm.rvs(loc=4.8, scale=1.5, size=200)\n",
    "fig, ax = plt.subplots()\n",
    "_ = ax.hist(datasæt1_moredist, range=(-5,15), bins=20, alpha=0.5, label=\"Before (More Dist)\")\n",
    "_ = ax.hist(datasæt2_moredist, range=(-5,15), bins=20, alpha=0.5, label=\"After (More Dist)\")\n",
    "ax.legend()\n",
    "ttest1 = ttest_ind(datasæt1_moredist, datasæt2_moredist, equal_var=False)\n",
    "print(ttest1)\n",
    "print(\"T-testen viser altså de to distrubitioner har forskellig middelværdi, med en p-værdi på <0.0001\")"
   ]
  },
  {
   "cell_type": "markdown",
   "metadata": {},
   "source": [
    "# Opgave 2"
   ]
  },
  {
   "cell_type": "markdown",
   "metadata": {},
   "source": [
    "### 2.1 - Hvilke udfordringer ser du ved data? List alle de problemer som du kan finde i data.\n",
    "\n",
    "### Hvad kan man gøre for at mitigere de kvalitetsmæssige problemer. Hvordan ville du rense data?\n",
    "\n",
    "#### Svar:\n",
    "\n",
    "Hvordan alle problemer blev fundet er forklaret nedenfor, men listen alle de fundne problemer er samlet her:\n",
    "- 80 % af patienter har ingen \"blood_pressure_systolic\" måling\n",
    "- 5 patienter har noteret en negativ alder\n",
    "- 5 patienter har noteret en urealistisk vægt\n",
    "- \"height_cm\" og \"height_ft\" er 100 % korrelerede og kun en af dem skal benyttes\n",
    "- \"weight_kg\" er fejlagtigt blevet rundet af\n",
    "- \"BMI\" er beregnet ud fra patientens vægt of højde og burde derfor ikke tilføje mere information\n",
    "\n",
    "Det kan sagtens tænkes at andre værdier er enten urealistiske eller unødvendige, men da jeg ikke kender data bedre end jeg gør kan jeg ikke umiddelbart finde flere store problemer. I praksis vil jeg naturligvis forhøre mig hos en ekspert og sørge for at målingerne er korrekte.\n",
    "\n",
    "For at mitigere de kvalitetsmæssige problemer vil jeg rense data på følgende måde:\n",
    "- De 5 patienter med negativ alder bruges ikke\n",
    "- \"blood_pressure_systolic\" bliver svært at bruge, men nogle algoritmer kan arbejde med manglede data (det testes, men ellers sættes til side)\n",
    "- \"height_ft\" udelukkes\n",
    "- Hvis jeg kan forsikre mig 100 %, hvordan BMI kolonnen er blevet til tænker jeg at omregne BMI til vægt i kg og vinde de ekstra 5 datapunkter tilbage. Er der nogen tvivl har jeg ikke specielt stor tiltro i præcisionen af BMI målingen, da jeg ikke har nogen præcis vægtmåling og vil nok spørge en mere erfaren kollega til råds"
   ]
  },
  {
   "cell_type": "code",
   "execution_count": 152,
   "metadata": {},
   "outputs": [
    {
     "data": {
      "text/html": [
       "<div>\n",
       "<style scoped>\n",
       "    .dataframe tbody tr th:only-of-type {\n",
       "        vertical-align: middle;\n",
       "    }\n",
       "\n",
       "    .dataframe tbody tr th {\n",
       "        vertical-align: top;\n",
       "    }\n",
       "\n",
       "    .dataframe thead th {\n",
       "        text-align: right;\n",
       "    }\n",
       "</style>\n",
       "<table border=\"1\" class=\"dataframe\">\n",
       "  <thead>\n",
       "    <tr style=\"text-align: right;\">\n",
       "      <th></th>\n",
       "      <th>age</th>\n",
       "      <th>weight_kg</th>\n",
       "      <th>height_cm</th>\n",
       "      <th>height_ft</th>\n",
       "      <th>cholesterol_total_mg_per_dl</th>\n",
       "      <th>BMI</th>\n",
       "      <th>blood_pressure_systolic</th>\n",
       "      <th>resting_heart_rate</th>\n",
       "      <th>VO2max</th>\n",
       "    </tr>\n",
       "  </thead>\n",
       "  <tbody>\n",
       "    <tr>\n",
       "      <th>0</th>\n",
       "      <td>41</td>\n",
       "      <td>65</td>\n",
       "      <td>201.637448</td>\n",
       "      <td>6.615402</td>\n",
       "      <td>216</td>\n",
       "      <td>15.987147</td>\n",
       "      <td>NaN</td>\n",
       "      <td>432.531503</td>\n",
       "      <td>28.637225</td>\n",
       "    </tr>\n",
       "    <tr>\n",
       "      <th>1</th>\n",
       "      <td>19</td>\n",
       "      <td>70</td>\n",
       "      <td>174.390376</td>\n",
       "      <td>5.721469</td>\n",
       "      <td>214</td>\n",
       "      <td>23.017227</td>\n",
       "      <td>NaN</td>\n",
       "      <td>203.708074</td>\n",
       "      <td>20.231604</td>\n",
       "    </tr>\n",
       "    <tr>\n",
       "      <th>2</th>\n",
       "      <td>61</td>\n",
       "      <td>65</td>\n",
       "      <td>159.717567</td>\n",
       "      <td>5.240078</td>\n",
       "      <td>218</td>\n",
       "      <td>25.480502</td>\n",
       "      <td>NaN</td>\n",
       "      <td>234.704751</td>\n",
       "      <td>29.078526</td>\n",
       "    </tr>\n",
       "    <tr>\n",
       "      <th>3</th>\n",
       "      <td>14</td>\n",
       "      <td>70</td>\n",
       "      <td>156.600796</td>\n",
       "      <td>5.137821</td>\n",
       "      <td>206</td>\n",
       "      <td>28.543690</td>\n",
       "      <td>NaN</td>\n",
       "      <td>372.196590</td>\n",
       "      <td>36.314162</td>\n",
       "    </tr>\n",
       "    <tr>\n",
       "      <th>4</th>\n",
       "      <td>72</td>\n",
       "      <td>54</td>\n",
       "      <td>188.835298</td>\n",
       "      <td>6.195384</td>\n",
       "      <td>199</td>\n",
       "      <td>15.143540</td>\n",
       "      <td>NaN</td>\n",
       "      <td>308.293814</td>\n",
       "      <td>30.429989</td>\n",
       "    </tr>\n",
       "    <tr>\n",
       "      <th>...</th>\n",
       "      <td>...</td>\n",
       "      <td>...</td>\n",
       "      <td>...</td>\n",
       "      <td>...</td>\n",
       "      <td>...</td>\n",
       "      <td>...</td>\n",
       "      <td>...</td>\n",
       "      <td>...</td>\n",
       "      <td>...</td>\n",
       "    </tr>\n",
       "    <tr>\n",
       "      <th>995</th>\n",
       "      <td>87</td>\n",
       "      <td>64</td>\n",
       "      <td>187.131585</td>\n",
       "      <td>6.139488</td>\n",
       "      <td>211</td>\n",
       "      <td>18.276195</td>\n",
       "      <td>111.856708</td>\n",
       "      <td>360.247394</td>\n",
       "      <td>27.182971</td>\n",
       "    </tr>\n",
       "    <tr>\n",
       "      <th>996</th>\n",
       "      <td>24</td>\n",
       "      <td>71</td>\n",
       "      <td>162.527154</td>\n",
       "      <td>5.332256</td>\n",
       "      <td>231</td>\n",
       "      <td>26.878590</td>\n",
       "      <td>NaN</td>\n",
       "      <td>245.536236</td>\n",
       "      <td>20.319297</td>\n",
       "    </tr>\n",
       "    <tr>\n",
       "      <th>997</th>\n",
       "      <td>69</td>\n",
       "      <td>70</td>\n",
       "      <td>184.693975</td>\n",
       "      <td>6.059514</td>\n",
       "      <td>221</td>\n",
       "      <td>20.520720</td>\n",
       "      <td>101.092507</td>\n",
       "      <td>242.796742</td>\n",
       "      <td>20.662191</td>\n",
       "    </tr>\n",
       "    <tr>\n",
       "      <th>998</th>\n",
       "      <td>54</td>\n",
       "      <td>68</td>\n",
       "      <td>164.142600</td>\n",
       "      <td>5.385256</td>\n",
       "      <td>220</td>\n",
       "      <td>25.238660</td>\n",
       "      <td>NaN</td>\n",
       "      <td>390.144537</td>\n",
       "      <td>36.405437</td>\n",
       "    </tr>\n",
       "    <tr>\n",
       "      <th>999</th>\n",
       "      <td>56</td>\n",
       "      <td>59</td>\n",
       "      <td>187.823214</td>\n",
       "      <td>6.162179</td>\n",
       "      <td>220</td>\n",
       "      <td>16.724513</td>\n",
       "      <td>NaN</td>\n",
       "      <td>260.968670</td>\n",
       "      <td>35.369160</td>\n",
       "    </tr>\n",
       "  </tbody>\n",
       "</table>\n",
       "<p>1000 rows × 9 columns</p>\n",
       "</div>"
      ],
      "text/plain": [
       "     age  weight_kg   height_cm  height_ft  cholesterol_total_mg_per_dl  \\\n",
       "0     41         65  201.637448   6.615402                          216   \n",
       "1     19         70  174.390376   5.721469                          214   \n",
       "2     61         65  159.717567   5.240078                          218   \n",
       "3     14         70  156.600796   5.137821                          206   \n",
       "4     72         54  188.835298   6.195384                          199   \n",
       "..   ...        ...         ...        ...                          ...   \n",
       "995   87         64  187.131585   6.139488                          211   \n",
       "996   24         71  162.527154   5.332256                          231   \n",
       "997   69         70  184.693975   6.059514                          221   \n",
       "998   54         68  164.142600   5.385256                          220   \n",
       "999   56         59  187.823214   6.162179                          220   \n",
       "\n",
       "           BMI  blood_pressure_systolic  resting_heart_rate     VO2max  \n",
       "0    15.987147                      NaN          432.531503  28.637225  \n",
       "1    23.017227                      NaN          203.708074  20.231604  \n",
       "2    25.480502                      NaN          234.704751  29.078526  \n",
       "3    28.543690                      NaN          372.196590  36.314162  \n",
       "4    15.143540                      NaN          308.293814  30.429989  \n",
       "..         ...                      ...                 ...        ...  \n",
       "995  18.276195               111.856708          360.247394  27.182971  \n",
       "996  26.878590                      NaN          245.536236  20.319297  \n",
       "997  20.520720               101.092507          242.796742  20.662191  \n",
       "998  25.238660                      NaN          390.144537  36.405437  \n",
       "999  16.724513                      NaN          260.968670  35.369160  \n",
       "\n",
       "[1000 rows x 9 columns]"
      ]
     },
     "execution_count": 152,
     "metadata": {},
     "output_type": "execute_result"
    }
   ],
   "source": [
    "opg2data = pd.read_csv(ptf_Opgave2, delimiter=',', header=0)\n",
    "opg2data"
   ]
  },
  {
   "cell_type": "markdown",
   "metadata": {},
   "source": [
    "Efter importering og et hurtigt kig på de første og sidste 5 række bliver første problem tydeligt, der fremgår NaNs i kollonen \"blood_pressure_systolic\", det skal undersøger nærmere. Men først lad os lige få en overblik over data, ved at lave histogrammer. "
   ]
  },
  {
   "cell_type": "code",
   "execution_count": 153,
   "metadata": {},
   "outputs": [
    {
     "data": {
      "image/png": "[encoded data removed]",
      "text/plain": [
       "<Figure size 720x576 with 9 Axes>"
      ]
     },
     "metadata": {
      "needs_background": "light"
     },
     "output_type": "display_data"
    }
   ],
   "source": [
    "plt.rcParams['figure.figsize'] = [10,8]\n",
    "opg2data_hist = opg2data.hist()"
   ]
  },
  {
   "cell_type": "markdown",
   "metadata": {},
   "source": [
    "Histogrammerne fortæller os en række ting. Først af alt ser det umiddelbart ud til at meget data er godt og flere variabler fordeler sig sundt. Dog, er det tydeligt at se at der er mange NaNs i \"blood_pressure_systolic\" kolonnen, der er negative målinger i \"age\" kolonnen, og der er umiddelbart få meget høje målinger i \"weight_kg\" kolonnen. Jeg vil nu tjekke efter NaNs og negative værdier (da alle målinger burde være positive)."
   ]
  },
  {
   "cell_type": "code",
   "execution_count": 154,
   "metadata": {},
   "outputs": [
    {
     "name": "stdout",
     "output_type": "stream",
     "text": [
      "Searching for NaNs\n",
      "#NaNs in age = 0\n",
      "#NaNs in weight_kg = 0\n",
      "#NaNs in height_cm = 0\n",
      "#NaNs in height_ft = 0\n",
      "#NaNs in cholesterol_total_mg_per_dl = 0\n",
      "#NaNs in BMI = 0\n",
      "#NaNs in blood_pressure_systolic = 800\n",
      "#NaNs in resting_heart_rate = 0\n",
      "#NaNs in VO2max = 0\n"
     ]
    }
   ],
   "source": [
    "print(\"Searching for NaNs\")\n",
    "for column in opg2data.columns:\n",
    "    print(f'#NaNs in {column} = {opg2data[column].isna().sum()}')"
   ]
  },
  {
   "cell_type": "markdown",
   "metadata": {},
   "source": [
    "80 % af patienterne har altså ingen måling af \"blood_pressure_systolic\"."
   ]
  },
  {
   "cell_type": "code",
   "execution_count": 155,
   "metadata": {},
   "outputs": [
    {
     "name": "stdout",
     "output_type": "stream",
     "text": [
      "Searching for Negative Measurements\n",
      "#Negs in age = 5\n",
      "#Negs in weight_kg = 0\n",
      "#Negs in height_cm = 0\n",
      "#Negs in height_ft = 0\n",
      "#Negs in cholesterol_total_mg_per_dl = 0\n",
      "#Negs in BMI = 0\n",
      "#Negs in blood_pressure_systolic = 0\n",
      "#Negs in resting_heart_rate = 0\n",
      "#Negs in VO2max = 0\n"
     ]
    }
   ],
   "source": [
    "print(\"Searching for Negative Measurements\")\n",
    "for column in opg2data.columns:\n",
    "    print(f'#Negs in {column} = {opg2data[column].agg(lambda x: sum(x < 0))}')"
   ]
  },
  {
   "cell_type": "markdown",
   "metadata": {},
   "source": [
    "Det er altså blot 5 patienter, hvis alder er blevet noteret som varende negativ."
   ]
  },
  {
   "cell_type": "code",
   "execution_count": 156,
   "metadata": {},
   "outputs": [
    {
     "data": {
      "text/html": [
       "<div>\n",
       "<style scoped>\n",
       "    .dataframe tbody tr th:only-of-type {\n",
       "        vertical-align: middle;\n",
       "    }\n",
       "\n",
       "    .dataframe tbody tr th {\n",
       "        vertical-align: top;\n",
       "    }\n",
       "\n",
       "    .dataframe thead th {\n",
       "        text-align: right;\n",
       "    }\n",
       "</style>\n",
       "<table border=\"1\" class=\"dataframe\">\n",
       "  <thead>\n",
       "    <tr style=\"text-align: right;\">\n",
       "      <th></th>\n",
       "      <th>age</th>\n",
       "      <th>weight_kg</th>\n",
       "      <th>height_cm</th>\n",
       "      <th>height_ft</th>\n",
       "      <th>cholesterol_total_mg_per_dl</th>\n",
       "      <th>BMI</th>\n",
       "      <th>blood_pressure_systolic</th>\n",
       "      <th>resting_heart_rate</th>\n",
       "      <th>VO2max</th>\n",
       "    </tr>\n",
       "  </thead>\n",
       "  <tbody>\n",
       "    <tr>\n",
       "      <th>87</th>\n",
       "      <td>-11</td>\n",
       "      <td>74</td>\n",
       "      <td>167.934128</td>\n",
       "      <td>5.509650</td>\n",
       "      <td>228</td>\n",
       "      <td>26.239394</td>\n",
       "      <td>104.306908</td>\n",
       "      <td>289.231785</td>\n",
       "      <td>26.510923</td>\n",
       "    </tr>\n",
       "    <tr>\n",
       "      <th>97</th>\n",
       "      <td>-13</td>\n",
       "      <td>74</td>\n",
       "      <td>181.181572</td>\n",
       "      <td>5.944277</td>\n",
       "      <td>225</td>\n",
       "      <td>22.542583</td>\n",
       "      <td>NaN</td>\n",
       "      <td>315.876983</td>\n",
       "      <td>31.182484</td>\n",
       "    </tr>\n",
       "    <tr>\n",
       "      <th>644</th>\n",
       "      <td>-9</td>\n",
       "      <td>61</td>\n",
       "      <td>162.232027</td>\n",
       "      <td>5.322573</td>\n",
       "      <td>191</td>\n",
       "      <td>23.176969</td>\n",
       "      <td>NaN</td>\n",
       "      <td>229.203378</td>\n",
       "      <td>25.831703</td>\n",
       "    </tr>\n",
       "    <tr>\n",
       "      <th>739</th>\n",
       "      <td>-6</td>\n",
       "      <td>72</td>\n",
       "      <td>175.469925</td>\n",
       "      <td>5.756887</td>\n",
       "      <td>215</td>\n",
       "      <td>23.384448</td>\n",
       "      <td>118.006309</td>\n",
       "      <td>308.024834</td>\n",
       "      <td>32.209551</td>\n",
       "    </tr>\n",
       "    <tr>\n",
       "      <th>991</th>\n",
       "      <td>-10</td>\n",
       "      <td>69</td>\n",
       "      <td>175.291467</td>\n",
       "      <td>5.751032</td>\n",
       "      <td>208</td>\n",
       "      <td>22.455749</td>\n",
       "      <td>NaN</td>\n",
       "      <td>165.265428</td>\n",
       "      <td>26.679736</td>\n",
       "    </tr>\n",
       "  </tbody>\n",
       "</table>\n",
       "</div>"
      ],
      "text/plain": [
       "     age  weight_kg   height_cm  height_ft  cholesterol_total_mg_per_dl  \\\n",
       "87   -11         74  167.934128   5.509650                          228   \n",
       "97   -13         74  181.181572   5.944277                          225   \n",
       "644   -9         61  162.232027   5.322573                          191   \n",
       "739   -6         72  175.469925   5.756887                          215   \n",
       "991  -10         69  175.291467   5.751032                          208   \n",
       "\n",
       "           BMI  blood_pressure_systolic  resting_heart_rate     VO2max  \n",
       "87   26.239394               104.306908          289.231785  26.510923  \n",
       "97   22.542583                      NaN          315.876983  31.182484  \n",
       "644  23.176969                      NaN          229.203378  25.831703  \n",
       "739  23.384448               118.006309          308.024834  32.209551  \n",
       "991  22.455749                      NaN          165.265428  26.679736  "
      ]
     },
     "execution_count": 156,
     "metadata": {},
     "output_type": "execute_result"
    }
   ],
   "source": [
    "opg2data[opg2data[\"age\"] < 0]"
   ]
  },
  {
   "cell_type": "markdown",
   "metadata": {},
   "source": [
    "Der er ikke umiddelbart noget system i fejlen, det er i hvert fald usandsynligt at vægt/højde stemmer overens med alderes, skulle det havde været den samme type tastefejl."
   ]
  },
  {
   "cell_type": "code",
   "execution_count": 157,
   "metadata": {},
   "outputs": [
    {
     "data": {
      "image/png": "[encoded data removed]",
      "text/plain": [
       "<Figure size 720x576 with 1 Axes>"
      ]
     },
     "metadata": {
      "needs_background": "light"
     },
     "output_type": "display_data"
    }
   ],
   "source": [
    "_ = plt.hist(opg2data[\"weight_kg\"], range=(0,140), bins=30)"
   ]
  },
  {
   "cell_type": "code",
   "execution_count": 158,
   "metadata": {},
   "outputs": [
    {
     "name": "stdout",
     "output_type": "stream",
     "text": [
      "Antallet af patienter med urealistisk vægt = 5\n"
     ]
    }
   ],
   "source": [
    "print(f'Antallet af patienter med urealistisk vægt = {np.sum(opg2data[\"weight_kg\"] > 140)}')"
   ]
  },
  {
   "cell_type": "code",
   "execution_count": 159,
   "metadata": {},
   "outputs": [
    {
     "data": {
      "text/html": [
       "<div>\n",
       "<style scoped>\n",
       "    .dataframe tbody tr th:only-of-type {\n",
       "        vertical-align: middle;\n",
       "    }\n",
       "\n",
       "    .dataframe tbody tr th {\n",
       "        vertical-align: top;\n",
       "    }\n",
       "\n",
       "    .dataframe thead th {\n",
       "        text-align: right;\n",
       "    }\n",
       "</style>\n",
       "<table border=\"1\" class=\"dataframe\">\n",
       "  <thead>\n",
       "    <tr style=\"text-align: right;\">\n",
       "      <th></th>\n",
       "      <th>age</th>\n",
       "      <th>weight_kg</th>\n",
       "      <th>height_cm</th>\n",
       "      <th>height_ft</th>\n",
       "      <th>cholesterol_total_mg_per_dl</th>\n",
       "      <th>BMI</th>\n",
       "      <th>blood_pressure_systolic</th>\n",
       "      <th>resting_heart_rate</th>\n",
       "      <th>VO2max</th>\n",
       "    </tr>\n",
       "  </thead>\n",
       "  <tbody>\n",
       "    <tr>\n",
       "      <th>267</th>\n",
       "      <td>41</td>\n",
       "      <td>1043</td>\n",
       "      <td>183.831363</td>\n",
       "      <td>6.031213</td>\n",
       "      <td>211</td>\n",
       "      <td>22.785130</td>\n",
       "      <td>115.833141</td>\n",
       "      <td>261.288512</td>\n",
       "      <td>25.924240</td>\n",
       "    </tr>\n",
       "    <tr>\n",
       "      <th>291</th>\n",
       "      <td>54</td>\n",
       "      <td>1242</td>\n",
       "      <td>178.509638</td>\n",
       "      <td>5.856615</td>\n",
       "      <td>207</td>\n",
       "      <td>21.339566</td>\n",
       "      <td>128.962861</td>\n",
       "      <td>311.487268</td>\n",
       "      <td>44.429875</td>\n",
       "    </tr>\n",
       "    <tr>\n",
       "      <th>323</th>\n",
       "      <td>28</td>\n",
       "      <td>854</td>\n",
       "      <td>156.176810</td>\n",
       "      <td>5.123911</td>\n",
       "      <td>215</td>\n",
       "      <td>34.028672</td>\n",
       "      <td>NaN</td>\n",
       "      <td>369.816711</td>\n",
       "      <td>28.476536</td>\n",
       "    </tr>\n",
       "    <tr>\n",
       "      <th>544</th>\n",
       "      <td>53</td>\n",
       "      <td>1252</td>\n",
       "      <td>153.974443</td>\n",
       "      <td>5.051655</td>\n",
       "      <td>217</td>\n",
       "      <td>24.885979</td>\n",
       "      <td>NaN</td>\n",
       "      <td>258.840881</td>\n",
       "      <td>25.762856</td>\n",
       "    </tr>\n",
       "    <tr>\n",
       "      <th>571</th>\n",
       "      <td>24</td>\n",
       "      <td>1046</td>\n",
       "      <td>163.135879</td>\n",
       "      <td>5.352227</td>\n",
       "      <td>224</td>\n",
       "      <td>20.666347</td>\n",
       "      <td>NaN</td>\n",
       "      <td>305.336400</td>\n",
       "      <td>28.270119</td>\n",
       "    </tr>\n",
       "  </tbody>\n",
       "</table>\n",
       "</div>"
      ],
      "text/plain": [
       "     age  weight_kg   height_cm  height_ft  cholesterol_total_mg_per_dl  \\\n",
       "267   41       1043  183.831363   6.031213                          211   \n",
       "291   54       1242  178.509638   5.856615                          207   \n",
       "323   28        854  156.176810   5.123911                          215   \n",
       "544   53       1252  153.974443   5.051655                          217   \n",
       "571   24       1046  163.135879   5.352227                          224   \n",
       "\n",
       "           BMI  blood_pressure_systolic  resting_heart_rate     VO2max  \n",
       "267  22.785130               115.833141          261.288512  25.924240  \n",
       "291  21.339566               128.962861          311.487268  44.429875  \n",
       "323  34.028672                      NaN          369.816711  28.476536  \n",
       "544  24.885979                      NaN          258.840881  25.762856  \n",
       "571  20.666347                      NaN          305.336400  28.270119  "
      ]
     },
     "execution_count": 159,
     "metadata": {},
     "output_type": "execute_result"
    }
   ],
   "source": [
    "opg2data[opg2data[\"weight_kg\"] > 140]"
   ]
  },
  {
   "cell_type": "markdown",
   "metadata": {},
   "source": [
    "Der er altså tale om 5 patienter, hvis vægt er noteret til at være meget urealistisk. Der fremgår igen ikke noget tydeligt mønster."
   ]
  },
  {
   "cell_type": "code",
   "execution_count": 160,
   "metadata": {},
   "outputs": [
    {
     "data": {
      "image/png": "[encoded data removed]",
      "text/plain": [
       "<Figure size 720x576 with 1 Axes>"
      ]
     },
     "metadata": {
      "needs_background": "light"
     },
     "output_type": "display_data"
    }
   ],
   "source": [
    "cm_in_feet = 30.48\n",
    "_ = plt.hist(opg2data['height_cm'] / cm_in_feet, alpha=0.5, bins=25, label='height_cm / 30.48')\n",
    "_ = plt.hist(opg2data['height_ft'], alpha=0.5, bins=25, label='height_ft')\n",
    "_ = plt.legend()"
   ]
  },
  {
   "cell_type": "markdown",
   "metadata": {},
   "source": [
    "Bare som sanity check sørgede jeg lige for at der var ikke noget underligt ved de to kolonner der beskriver højden af patienten. Disse to kolonner beskriver præcis den samme ting og er 100 % korrelerede og man burde derfor kun bruge én af værdierne."
   ]
  },
  {
   "cell_type": "code",
   "execution_count": 161,
   "metadata": {},
   "outputs": [
    {
     "data": {
      "image/png": "[encoded data removed]",
      "text/plain": [
       "<Figure size 720x576 with 1 Axes>"
      ]
     },
     "metadata": {
      "needs_background": "light"
     },
     "output_type": "display_data"
    }
   ],
   "source": [
    "_ = plt.hist(opg2data['BMI'], alpha=0.5, range=(0,60), bins=25, label='BMI')\n",
    "BMI_calc = opg2data['weight_kg'] / (opg2data['height_cm']/100)**2\n",
    "_ = plt.hist(BMI_calc, alpha=0.5, range=(0,60), bins=25, label='BMI calc')\n",
    "_ = plt.legend()"
   ]
  },
  {
   "cell_type": "markdown",
   "metadata": {},
   "source": [
    "En BMI værdi udregnes ved følgende formel: vægt [kg] / højde [m]^2\n",
    "\n",
    "Histogrammer ovenfor tyder på at dette er tilfældet. Det betyder at denne variable ikke bringer nogen yderliger information end vægt og højde allerede gør og burde derfor fjernes.\n",
    "\n",
    "Den lille afvigelse imellem de to histogrammer skyldes højst sandsynligt at patienternes vægt er blevet rundet af til hele kilogram. Dette er højst besynderligt da alle andre målinger har mere end rigeligt betydelige ciffer.\n",
    "\n",
    "Det er derfor vigtigt at vide om \"BMI\" kolonnen er udregnet før vægten blev rundet af. Hvis dette er tilfældet kan man enten vælge at bruge den samme omregning til at få en korrekt \"weight_kg\" kolonne, eller man kan blot give \"BMI\" kolonnen til algoritmen og lade den vinde den information gennem en lidt mere kompliceret sammenhæng. Det skal dog siges at omregner man BMI til vægt, vil man også vinde vægt målingen for de 5 patienter, hvis noterede vægt var urealistisk."
   ]
  },
  {
   "cell_type": "markdown",
   "metadata": {},
   "source": [
    "## 2.2 - Hvilke kolonner vil du beholder og hvilke vil du smide væk. Hvorfor?\n",
    "\n",
    "### Svar:\n",
    "\n",
    "Beholde:\n",
    "- age\n",
    "- height_cm\n",
    "- cholesterol_total_mg_per_dl\n",
    "- resting_heart_rate\n",
    "- VO2max\n",
    "\n",
    "Boblere:\n",
    "- weight_kg\n",
    "- BMI \n",
    "\n",
    "Smide væk:\n",
    "- height_ft\n",
    "- blood_pressure_systolic\n",
    "\n",
    "Det meste af begrundelsen blev berørt i besvarelsen til opg. 2.1. En af boblerene skal bruges, og jeg vil gerne prøve at udnytte \"blood_pressure_systolic\""
   ]
  },
  {
   "cell_type": "markdown",
   "metadata": {},
   "source": [
    "## 2.3 - Hvordan kan denne præference tænkes ind i algoritme udviklingen?\n",
    "\n",
    "### Svar:\n",
    "\n",
    "Vi ønsker at vores algoritme yderst sjældent erklarer en syg patient for rask (FN), dette kan opnås ved forskellige værnemidler.\n",
    "\n",
    "Man kan under træning vægte syge patienter højere raske patienter. Dette gøres ved at implementere såkaldte \"sample weights\", der straffer/belønner algoritmens (\"loss functions\") hårdere, når den korrekt erklare en syg patient for syg. Meget tilsvarende kan man også overpopulere den positive label, ved \"oversampling\", det burde meget den samme effekt.\n",
    "\n",
    "Man kan vælge det \"threshold\", hvor algoritmen erklarer en person for syg, dette er altså en værdi mellem [0:1), således at man minimere falske negativer. Dette er naturligvis 0, og det vil i praktisk betyde at man giver alle patienter medicinen. Derfor kan man bruge ROC-curven til at vurdere en tilfredsstillende balance mellem FN og FP."
   ]
  },
  {
   "cell_type": "markdown",
   "metadata": {},
   "source": [
    "## 2.4 - Beskriv nogle forskellige præstationsmål for algoritmer som laver binar klassificering. Hvilke overvejelser skal man gøre sig ift. præstationsmål, hvis der er en meget skæv fordeling af de 2 kategorier?\n",
    "\n",
    "### Svar:\n",
    "\n",
    "I binær klassificering har man at gøre med 2 labels, hvilket jeg her vil refere til som signal (sande label 1) og baggrund (sande label 0). En ML algoritme leverer en score, et tal imellem 0 og 1, som repræsenterer hvor sikker algoritmen er på at målepunktet er enten signal (høj score, tæt på 1) eller baggrund (lav score, tæt på 0). Det er altså vores job at bestemme, hvornår vi stoler nok på algoritmens vurdering og derfor skal vi vælge en grænseværdi (\"threshold\"), hvor målepunkter med en score over denne værdi erklares for signal (label 1) og alt under erklares for baggrund (label 0). En række ting sker, når vi tager dette valg. For et givent målepunkt er der 4 mulige udfald:\n",
    "\n",
    "- Sande label 1 og label 1 (True Positive, TP)\n",
    "- Sande label 1 og label 0 (False Negative, FN)\n",
    "- Sande label 0 og label 1 (False Positive, FP)\n",
    "- Sande label 0 og label 0 (True Negative, TN)\n",
    "\n",
    "Dette er grundstenen af det såkaldte confusion matrix, som indeholder en lang række værdier man kan beregne, som alle siger noget mere eller mindre brugbart om din algoritmes evne til at løse den binære klassificering. Jeg har altid synes at wiki siden er god og kompakt så den får lige et shout-out https://en.wikipedia.org/wiki/Confusion_matrix\n",
    "\n",
    "Ud fra de fire introducerede udfald kan man beregne to størrelser, der beskriver hvor stor en procentdel af label 1 der erklæres korrekt og af label 0 der eklæres forkert.\n",
    "\n",
    "- True Positive Rate  (TPR): TP / (TP + FN) = TP / P\n",
    "- False Positive Rate (FPR): FP / (FP + TN) = TP / N\n",
    "\n",
    "Hvor P og N refererer til antallet af hhv. label 1 og label 0.\n",
    "\n",
    "Hvis man nu i stedet for at vælge én grænseværdi vælger en masse fordelt over intervallet (0,1) og plottede TPR mod FPR for alle punkterne vil have en Receiver Operating Characteristic (ROC) curve. Denne kurve giver et godt overblik over algoritmens evne til korrekt at erklære signal som funktion af dens evne til korrekt at erklære baggrund. Et brugbart præstationsmål for binær klassificering er arealet under denne ROC curve, også kallet AUC. En perfekt algoritme vil have AUC = 1. Denne giver os altså en enkeltstående værdi der indeholder en masse information til at evaluere vores algoritme.\n",
    "\n",
    "Har man at gøre med en meget skæv fordeling af labels skal man være opmærksom på at ens præstationsmål tager højde for dette. For at give et konkret eksempel kan vi kigge på præstationsmålet accuracy, som ofte bruges til træning af algoritmer.\n",
    "\n",
    "- Accuracy (ACC): (TP + TN) / (P + N)"
   ]
  },
  {
   "cell_type": "code",
   "execution_count": 162,
   "metadata": {},
   "outputs": [
    {
     "name": "stdout",
     "output_type": "stream",
     "text": [
      "ACC = 0.933\n"
     ]
    }
   ],
   "source": [
    "P = 200\n",
    "N = 9800\n",
    "TP = 200*0.1\n",
    "TN = 9800*0.95\n",
    "print(f'ACC = {(TP + TN) / (P + N)}')"
   ]
  },
  {
   "cell_type": "markdown",
   "metadata": {},
   "source": [
    "Forestiller man sig en label-fordeling på 98% label 0 og 2% label 1 (kan sagtens være værre for bl.a. sjældne sygdomme). Rammer algoritmen 95% korrekt på label 0 og kun 10% korrekt på label 1 vil man få en accuracy på 0.933, hvilket ved første øjekast er et godt resultat. Men i virkeligheden er algoritmen meget dårlig til den del af opgaven der vejer mest."
   ]
  },
  {
   "cell_type": "markdown",
   "metadata": {},
   "source": [
    "# Opgave 3"
   ]
  },
  {
   "cell_type": "markdown",
   "metadata": {},
   "source": [
    "## 3.1 - Kan du finde konkrete korrelationer mellem label værdierne? Ville opgaven kunne løses ved kun at lave én algoritme som forudsige én af label værdierne, hvorefter de andre labels kan udledes? I så fald, hvilket label skal forudsiges af en algoritme og hvilke kan derfra udledes?\n",
    "\n",
    "### Svar:\n",
    "\n",
    "Både label1 og label3 er strengt afgrænset i label2. Det er derfor muligt at forudsige både label1 og label3 ud fra en forudsigelse af label2. Der er altså tale om et regressionsproblem, hvorefter klassificering kan gøres ud fra disse simple grænser:\n",
    "\n",
    "- Label1 = -1 for label 2 < 7.0\n",
    "- Label1 = 1 for label 2 > 7.0\n",
    "\n",
    "\n",
    "- Label3 = category_1 for label 2 < 5.14\n",
    "- Label3 = category_2 for 5.14 < label 2 < 9.1745\n",
    "- Label3 = category_3 for label2 > 9.1745\n",
    "\n",
    "Besvarelsen er begrundet i det næste par celler."
   ]
  },
  {
   "cell_type": "code",
   "execution_count": 163,
   "metadata": {},
   "outputs": [
    {
     "data": {
      "text/html": [
       "<div>\n",
       "<style scoped>\n",
       "    .dataframe tbody tr th:only-of-type {\n",
       "        vertical-align: middle;\n",
       "    }\n",
       "\n",
       "    .dataframe tbody tr th {\n",
       "        vertical-align: top;\n",
       "    }\n",
       "\n",
       "    .dataframe thead th {\n",
       "        text-align: right;\n",
       "    }\n",
       "</style>\n",
       "<table border=\"1\" class=\"dataframe\">\n",
       "  <thead>\n",
       "    <tr style=\"text-align: right;\">\n",
       "      <th></th>\n",
       "      <th>col1</th>\n",
       "      <th>col2</th>\n",
       "      <th>col3</th>\n",
       "      <th>col4</th>\n",
       "      <th>label1</th>\n",
       "      <th>label2</th>\n",
       "      <th>label3</th>\n",
       "    </tr>\n",
       "  </thead>\n",
       "  <tbody>\n",
       "    <tr>\n",
       "      <th>0</th>\n",
       "      <td>-104.260078</td>\n",
       "      <td>0.848727</td>\n",
       "      <td>4.359474</td>\n",
       "      <td>-0.462000</td>\n",
       "      <td>-1.0</td>\n",
       "      <td>5.965451</td>\n",
       "      <td>category_2</td>\n",
       "    </tr>\n",
       "    <tr>\n",
       "      <th>1</th>\n",
       "      <td>-112.768078</td>\n",
       "      <td>2.660304</td>\n",
       "      <td>2.731265</td>\n",
       "      <td>3.438523</td>\n",
       "      <td>-1.0</td>\n",
       "      <td>6.559512</td>\n",
       "      <td>category_2</td>\n",
       "    </tr>\n",
       "    <tr>\n",
       "      <th>2</th>\n",
       "      <td>-84.381122</td>\n",
       "      <td>2.542574</td>\n",
       "      <td>4.413660</td>\n",
       "      <td>15.445233</td>\n",
       "      <td>1.0</td>\n",
       "      <td>8.926347</td>\n",
       "      <td>category_2</td>\n",
       "    </tr>\n",
       "    <tr>\n",
       "      <th>3</th>\n",
       "      <td>-247.289486</td>\n",
       "      <td>0.225278</td>\n",
       "      <td>1.213606</td>\n",
       "      <td>6.655519</td>\n",
       "      <td>-1.0</td>\n",
       "      <td>6.501759</td>\n",
       "      <td>category_2</td>\n",
       "    </tr>\n",
       "    <tr>\n",
       "      <th>4</th>\n",
       "      <td>-74.440479</td>\n",
       "      <td>2.529568</td>\n",
       "      <td>6.447062</td>\n",
       "      <td>10.303060</td>\n",
       "      <td>1.0</td>\n",
       "      <td>9.294319</td>\n",
       "      <td>category_3</td>\n",
       "    </tr>\n",
       "    <tr>\n",
       "      <th>...</th>\n",
       "      <td>...</td>\n",
       "      <td>...</td>\n",
       "      <td>...</td>\n",
       "      <td>...</td>\n",
       "      <td>...</td>\n",
       "      <td>...</td>\n",
       "      <td>...</td>\n",
       "    </tr>\n",
       "    <tr>\n",
       "      <th>995</th>\n",
       "      <td>-236.265443</td>\n",
       "      <td>2.019755</td>\n",
       "      <td>5.282496</td>\n",
       "      <td>14.731949</td>\n",
       "      <td>1.0</td>\n",
       "      <td>12.630069</td>\n",
       "      <td>category_3</td>\n",
       "    </tr>\n",
       "    <tr>\n",
       "      <th>996</th>\n",
       "      <td>-225.515089</td>\n",
       "      <td>2.549566</td>\n",
       "      <td>3.621528</td>\n",
       "      <td>-1.424111</td>\n",
       "      <td>1.0</td>\n",
       "      <td>8.634920</td>\n",
       "      <td>category_2</td>\n",
       "    </tr>\n",
       "    <tr>\n",
       "      <th>997</th>\n",
       "      <td>-114.056046</td>\n",
       "      <td>1.132687</td>\n",
       "      <td>2.053329</td>\n",
       "      <td>6.809283</td>\n",
       "      <td>-1.0</td>\n",
       "      <td>5.718830</td>\n",
       "      <td>category_2</td>\n",
       "    </tr>\n",
       "    <tr>\n",
       "      <th>998</th>\n",
       "      <td>-118.319677</td>\n",
       "      <td>1.053378</td>\n",
       "      <td>4.245943</td>\n",
       "      <td>9.111677</td>\n",
       "      <td>1.0</td>\n",
       "      <td>7.567570</td>\n",
       "      <td>category_2</td>\n",
       "    </tr>\n",
       "    <tr>\n",
       "      <th>999</th>\n",
       "      <td>-210.726748</td>\n",
       "      <td>1.760621</td>\n",
       "      <td>4.850692</td>\n",
       "      <td>7.637975</td>\n",
       "      <td>1.0</td>\n",
       "      <td>10.319019</td>\n",
       "      <td>category_3</td>\n",
       "    </tr>\n",
       "  </tbody>\n",
       "</table>\n",
       "<p>1000 rows × 7 columns</p>\n",
       "</div>"
      ],
      "text/plain": [
       "           col1      col2      col3       col4  label1     label2      label3\n",
       "0   -104.260078  0.848727  4.359474  -0.462000    -1.0   5.965451  category_2\n",
       "1   -112.768078  2.660304  2.731265   3.438523    -1.0   6.559512  category_2\n",
       "2    -84.381122  2.542574  4.413660  15.445233     1.0   8.926347  category_2\n",
       "3   -247.289486  0.225278  1.213606   6.655519    -1.0   6.501759  category_2\n",
       "4    -74.440479  2.529568  6.447062  10.303060     1.0   9.294319  category_3\n",
       "..          ...       ...       ...        ...     ...        ...         ...\n",
       "995 -236.265443  2.019755  5.282496  14.731949     1.0  12.630069  category_3\n",
       "996 -225.515089  2.549566  3.621528  -1.424111     1.0   8.634920  category_2\n",
       "997 -114.056046  1.132687  2.053329   6.809283    -1.0   5.718830  category_2\n",
       "998 -118.319677  1.053378  4.245943   9.111677     1.0   7.567570  category_2\n",
       "999 -210.726748  1.760621  4.850692   7.637975     1.0  10.319019  category_3\n",
       "\n",
       "[1000 rows x 7 columns]"
      ]
     },
     "execution_count": 163,
     "metadata": {},
     "output_type": "execute_result"
    }
   ],
   "source": [
    "opg3data = pd.read_csv(pft_Opgave3, delimiter=',', header=0)\n",
    "opg3data"
   ]
  },
  {
   "cell_type": "code",
   "execution_count": 164,
   "metadata": {},
   "outputs": [],
   "source": [
    "opg3data = opg3data.replace(to_replace=['category_1', 'category_2', 'category_3'], value=[1,2,3])"
   ]
  },
  {
   "cell_type": "code",
   "execution_count": 165,
   "metadata": {},
   "outputs": [
    {
     "data": {
      "image/png": "[encoded data removed]",
      "text/plain": [
       "<Figure size 720x576 with 9 Axes>"
      ]
     },
     "metadata": {
      "needs_background": "light"
     },
     "output_type": "display_data"
    }
   ],
   "source": [
    "_ = opg3data.hist()"
   ]
  },
  {
   "cell_type": "code",
   "execution_count": 166,
   "metadata": {},
   "outputs": [
    {
     "data": {
      "image/png": "[encoded data removed]",
      "text/plain": [
       "<Figure size 720x576 with 2 Axes>"
      ]
     },
     "metadata": {
      "needs_background": "light"
     },
     "output_type": "display_data"
    }
   ],
   "source": [
    "fig, ax = plt.subplots(1,2)\n",
    "\n",
    "_ = ax[0].hist(opg3data[opg3data['label1'] == 1]['label2'], alpha = 0.6, label = 'label1 = 1', color='red')\n",
    "_ = ax[0].hist(opg3data[opg3data['label1'] == -1]['label2'], alpha = 0.6, label = 'label1 = -1', color='blue')\n",
    "_ = ax[0].legend()\n",
    "_ = ax[0].set_xlabel('label2')\n",
    "_ = ax[1].hist(opg3data[opg3data['label3'] == 1]['label2'], alpha = 0.6, label = 'label3 = 1', color='green')\n",
    "_ = ax[1].hist(opg3data[opg3data['label3'] == 2]['label2'], alpha = 0.6, label = 'label3 = 2', color='yellow')\n",
    "_ = ax[1].hist(opg3data[opg3data['label3'] == 3]['label2'], alpha = 0.6, label = 'label3 = 3', color='pink')\n",
    "_ = ax[1].legend()\n",
    "_ = ax[1].set_xlabel('label2')"
   ]
  },
  {
   "cell_type": "code",
   "execution_count": 167,
   "metadata": {},
   "outputs": [
    {
     "name": "stdout",
     "output_type": "stream",
     "text": [
      "Det venstre plot viser en klar seperation af label 2, som funktion af label 1\n",
      "Maximale værdi af blå hist: 6.992006135708247\n",
      "Minimale værdi af rød hist: 7.001815806841696\n",
      "Dette indikerer en skillegrænse omkring label2 = 7.0\n",
      "\n",
      "Det højre plot viser en klar seperation af label 2, som funktion af label 3\n",
      "Maximale værdi af grøn hist: 5.127139363692658\n",
      "Minimale værdi af gul hist: 5.160195153773334\n",
      "Maximale værdi af gul hist: 9.171500204149654\n",
      "Minimale værdi af pink hist: 9.175117337541957\n",
      "Dette indikerer to skillegrænser\n",
      "En mellem label3 = 1 og label3 = 2 omkring label2 = 5.14\n",
      "En anden mellem label3 = 2 og label3 = 3 omkring label2 = 9.1745\n"
     ]
    }
   ],
   "source": [
    "print('Det venstre plot viser en klar seperation af label 2, som funktion af label 1')\n",
    "print(f'Maximale værdi af blå hist: {max(opg3data[opg3data[\"label1\"] == -1][\"label2\"])}')\n",
    "print(f'Minimale værdi af rød hist: {min(opg3data[opg3data[\"label1\"] == 1][\"label2\"])}')\n",
    "print('Dette indikerer en skillegrænse omkring label2 = 7.0')\n",
    "print('')\n",
    "print('Det højre plot viser en klar seperation af label 2, som funktion af label 3')\n",
    "print(f'Maximale værdi af grøn hist: {max(opg3data[opg3data[\"label3\"] == 1][\"label2\"])}')\n",
    "print(f'Minimale værdi af gul hist: {min(opg3data[opg3data[\"label3\"] == 2][\"label2\"])}')\n",
    "print(f'Maximale værdi af gul hist: {max(opg3data[opg3data[\"label3\"] == 2][\"label2\"])}')\n",
    "print(f'Minimale værdi af pink hist: {min(opg3data[opg3data[\"label3\"] == 3][\"label2\"])}')\n",
    "print('Dette indikerer to skillegrænser')\n",
    "print('En mellem label3 = 1 og label3 = 2 omkring label2 = 5.14')\n",
    "print('En anden mellem label3 = 2 og label3 = 3 omkring label2 = 9.1745')"
   ]
  },
  {
   "cell_type": "markdown",
   "metadata": {},
   "source": [
    "## 3.2 - Hvilken type supervised learning ville egne sig til at forudsige den valgte label kolonne i forrige opgave og hvorfor?\n",
    "\n",
    "## Hvilke mål for præsentation kan bruges for denne type algoritme? Nævn et par forskellige præstationsmål og beskriv hvordan de er forskellige.\n",
    "\n",
    "\n",
    "### Svar:\n",
    "\n",
    "Da label2 tilsyneladende antager uendeligt mange forskellige værdier er der altså tale om et regressions problem. Algoritmen har altså ikke til opgave at klassificere målepunkter, men nærmere at vurdere en værdi. Jeg nævnte tidligere at bruge ML algoritmer til at klassificere partikler i ATLAS detektoren, man kan ligeledes bruge dem til at vurdere deres energi, dette er dog et regressions problem.\n",
    "\n",
    "I modsætning til binær klassificering, hvor vi havde fire mulige udfald for en given vurdering, kan vi i regression i stedet tale om, hvor forkert vores vurdering er. Vores præstationsmål skal altså sammenligne vores vurdering med den sande værdi og give os et mål på, hvor tæt på vi er.\n",
    "Dette kan gøres på en række forskellige måder:\n",
    "\n",
    "- Mean Squared Error (MSE): 1/n SUM(y - y_hat)^2\n",
    "- Root Mean Squared Error (RMSE): sqrt( 1/n SUM(y - y_hat)^2 )\n",
    "- Mean Absolute Error (MAE): 1/n SUM|y - y_hat|\n",
    "\n",
    "Hvor SUM referer til en sum alle målepunkter, y referer til det sande label, og y_hat referer til algoritmens forudsigelse.\n",
    "\n",
    "Disse præstationsmål har forskellige styrker og svagheder:\n",
    "\n",
    "MSE er simpel, differentierbar, og da den sætter fejlen i anden bliver algoritmen straffet selv for små fejl.\n",
    "\n",
    "RMSE forkuserer meget på store fejl og kan derfor være bedre til optimering. \n",
    "\n",
    "MAE er ret robust mod outliers, da den tager absolutværdien af fejlen."
   ]
  },
  {
   "cell_type": "markdown",
   "metadata": {},
   "source": [
    "## 3.3 - Hvilken fejl har du begået, og hvorfor er det en fejl?\n",
    "\n",
    "### Svar:\n",
    "\n",
    "Grunden til at man laver en opdeling af ens datasæt er udelukkende for at opnå den algoritme der generaliserer bedst til ny data. Modellens evne til at generaliseret er en direkte afspejling af hvor meget den har været i stand til at lære de udslagsgivende egenskaber (\"features\"), **uden** at lære de statistiske fluktuationer i træningssættet.\n",
    "Det samme gør sig ligeledes gældende for testsættet, hvis man tester en masse forskellige modeller på dette sæt og vælger den bedste, har man højst sandsynligt fundet den algoritme der \"overfitter\" dette sæt. Det er derfor vigtigt at man sammenligner præstation på både trænings- og testsættet, når man vælger den algoritme der forventes at generelisere bedst til ny data. Ens præstationsmål burde gerne være høj og sammenlignelig i begge sæt."
   ]
  },
  {
   "cell_type": "markdown",
   "metadata": {},
   "source": [
    "## 3.4 - Træn en algoritme til at forudsige den valgte label. Hvor høj kan du præcisionen? Hvilket algoritme brugte du og hvorfor?\n",
    "\n",
    "### Svar:\n",
    "\n",
    "Jeg delte dataen op i 3 sæt, et trænings-, validerings-, og testsæt (80%/10%/10% fordeling). På test sættet fik jeg følgende præcision:\n",
    "- MAE = 0.374\n",
    "- MSE = 0.203\n",
    "\n",
    "Da seed'et til lightgbm ikke helt virker, viser notebooken nok lidt anderledes resultater.\n",
    "\n",
    "Jeg valgte at bruge en simpel træbaseret ensemble model, boosted decision trees, implementeret igennem LightGBM. Jeg gjorde dette fordi den er hurtig, simpel, og noget jeg kender. Desunden arbejder vi både med få variabler og en relativt lille mængde data, så simple modeller burde levere solide præstationer."
   ]
  },
  {
   "cell_type": "code",
   "execution_count": 168,
   "metadata": {},
   "outputs": [],
   "source": [
    "df_train, df_val, df_test = np.split(opg3data.sample(frac=1), [int(0.8*len(opg3data)), int(0.9*len(opg3data))])\n",
    "\n",
    "X_train = df_train[['col1', 'col2', 'col3', 'col4']]\n",
    "y_train = df_train['label2']\n",
    "\n",
    "X_val = df_val[['col1', 'col2', 'col3', 'col4']]\n",
    "y_val = df_val['label2']\n",
    "\n",
    "X_test = df_test[['col1', 'col2', 'col3', 'col4']]\n",
    "y_test = df_test['label2']\n",
    "\n",
    "lgb_train = lgb.Dataset(X_train, label=y_train, free_raw_data=False)\n",
    "lgb_val = lgb_train.create_valid(X_val, label=y_val)\n",
    "\n",
    "lgb_model = lgb.Booster(train_set = lgb_train)"
   ]
  },
  {
   "cell_type": "code",
   "execution_count": 169,
   "metadata": {},
   "outputs": [
    {
     "name": "stdout",
     "output_type": "stream",
     "text": [
      "Training until validation scores don't improve for 100 rounds\n",
      "[25]\ttraining's l2: 0.426324\tvalid_1's l2: 0.532167\n",
      "[50]\ttraining's l2: 0.0628099\tvalid_1's l2: 0.191664\n",
      "[75]\ttraining's l2: 0.0423328\tvalid_1's l2: 0.178256\n",
      "[100]\ttraining's l2: 0.0320437\tvalid_1's l2: 0.172788\n",
      "[125]\ttraining's l2: 0.0244822\tvalid_1's l2: 0.168686\n",
      "[150]\ttraining's l2: 0.0192794\tvalid_1's l2: 0.164573\n",
      "[175]\ttraining's l2: 0.0157828\tvalid_1's l2: 0.16401\n",
      "[200]\ttraining's l2: 0.012908\tvalid_1's l2: 0.162779\n",
      "[225]\ttraining's l2: 0.0106517\tvalid_1's l2: 0.161487\n",
      "[250]\ttraining's l2: 0.00890754\tvalid_1's l2: 0.160621\n",
      "[275]\ttraining's l2: 0.007497\tvalid_1's l2: 0.15974\n",
      "[300]\ttraining's l2: 0.00641495\tvalid_1's l2: 0.159059\n",
      "[325]\ttraining's l2: 0.00540892\tvalid_1's l2: 0.159052\n",
      "[350]\ttraining's l2: 0.00463128\tvalid_1's l2: 0.158654\n",
      "[375]\ttraining's l2: 0.00402456\tvalid_1's l2: 0.158647\n",
      "[400]\ttraining's l2: 0.00352279\tvalid_1's l2: 0.1587\n",
      "[425]\ttraining's l2: 0.00305916\tvalid_1's l2: 0.158124\n",
      "[450]\ttraining's l2: 0.00265249\tvalid_1's l2: 0.158217\n",
      "[475]\ttraining's l2: 0.00233186\tvalid_1's l2: 0.15841\n",
      "[500]\ttraining's l2: 0.0020649\tvalid_1's l2: 0.157874\n",
      "[525]\ttraining's l2: 0.00183376\tvalid_1's l2: 0.157957\n",
      "[550]\ttraining's l2: 0.00164477\tvalid_1's l2: 0.158392\n",
      "[575]\ttraining's l2: 0.00145554\tvalid_1's l2: 0.158021\n",
      "[600]\ttraining's l2: 0.00129821\tvalid_1's l2: 0.158074\n",
      "[625]\ttraining's l2: 0.00117745\tvalid_1's l2: 0.157927\n",
      "Early stopping, best iteration is:\n",
      "[530]\ttraining's l2: 0.00178999\tvalid_1's l2: 0.157774\n"
     ]
    },
    {
     "data": {
      "text/plain": [
       "<matplotlib.axes._subplots.AxesSubplot at 0x1ab57060b48>"
      ]
     },
     "execution_count": 169,
     "metadata": {},
     "output_type": "execute_result"
    },
    {
     "data": {
      "image/png": "[encoded data removed]",
      "text/plain": [
       "<Figure size 720x576 with 1 Axes>"
      ]
     },
     "metadata": {
      "needs_background": "light"
     },
     "output_type": "display_data"
    }
   ],
   "source": [
    "params = {'boosting_type': 'gbdt', \n",
    "          'objective': 'regression', \n",
    "          'metric': 'mse', \n",
    "          'seed': 42, \n",
    "          'learning_rate': 0.1}\n",
    "\n",
    "results = {}\n",
    "lgb_model = lgb.train(params = params, \n",
    "                      train_set=lgb_train, \n",
    "                      init_model = lgb_model, \n",
    "                      valid_sets=[lgb_train, lgb_val], \n",
    "                      evals_result=results,\n",
    "                      early_stopping_rounds=100,\n",
    "                      num_boost_round = 2000,\n",
    "                      verbose_eval = 25)\n",
    "lgb.plot_metric(results)"
   ]
  },
  {
   "cell_type": "code",
   "execution_count": 170,
   "metadata": {},
   "outputs": [],
   "source": [
    "def evaluering(X, y_true, name=''):\n",
    "    preds = lgb_model.predict(X)\n",
    "    print(f'{name} MAE: {mean_absolute_error(y_true, preds)}')\n",
    "    print(f'{name} MSE: {mean_squared_error(y_true, preds)}')\n",
    "    print(f'{name} R^2 score: {r2_score(y_true, preds)}')\n",
    "    fig, ax = plt.subplots(1,2)\n",
    "    _ = ax[0].hist(preds, alpha = 0.5, range=(1,13), bins=12, label='Prediction')\n",
    "    _ = ax[0].hist(y_true, alpha = 0.5, range=(1,13), bins=12, label='True Label')\n",
    "    _ = ax[0].legend(loc=2)\n",
    "    _ = ax[0].set_xlabel('Label 2')\n",
    "    _ = ax[0].set_ylabel('Count')\n",
    "    \n",
    "    _ = ax[1].scatter(preds, y_true)\n",
    "    _ = ax[1].plot([0, 13], [0,13], color='black', label='Perfect Prediction')\n",
    "    _ = ax[1].legend(loc=2)\n",
    "    _ = ax[1].set_xlabel('Prediction')\n",
    "    _ = ax[1].set_ylabel('True Label')"
   ]
  },
  {
   "cell_type": "code",
   "execution_count": 171,
   "metadata": {},
   "outputs": [
    {
     "name": "stdout",
     "output_type": "stream",
     "text": [
      "Evaluering på Træningssættet\n",
      "Train MAE: 0.023248283103903457\n",
      "Train MSE: 0.0017899877479506754\n",
      "Train R^2 score: 0.9995412354170321\n"
     ]
    },
    {
     "data": {
      "image/png": "[encoded data removed]",
      "text/plain": [
       "<Figure size 720x576 with 2 Axes>"
      ]
     },
     "metadata": {
      "needs_background": "light"
     },
     "output_type": "display_data"
    }
   ],
   "source": [
    "print(f'Evaluering på Træningssættet')\n",
    "evaluering(X_train, y_train, name='Train')"
   ]
  },
  {
   "cell_type": "code",
   "execution_count": 172,
   "metadata": {},
   "outputs": [
    {
     "name": "stdout",
     "output_type": "stream",
     "text": [
      "Evaluering på Valideringssættet\n",
      "Val MAE: 0.3233094796421716\n",
      "Val MSE: 0.15777420995795935\n",
      "Val R^2 score: 0.9601143099881513\n"
     ]
    },
    {
     "data": {
      "image/png": "[encoded data removed]",
      "text/plain": [
       "<Figure size 720x576 with 2 Axes>"
      ]
     },
     "metadata": {
      "needs_background": "light"
     },
     "output_type": "display_data"
    }
   ],
   "source": [
    "print(f'Evaluering på Valideringssættet')\n",
    "evaluering(X_val, y_val, name='Val')"
   ]
  },
  {
   "cell_type": "code",
   "execution_count": 173,
   "metadata": {},
   "outputs": [
    {
     "name": "stdout",
     "output_type": "stream",
     "text": [
      "Evaluering på Testsættet\n",
      "Test MAE: 0.3743899223072368\n",
      "Test MSE: 0.20329557461541323\n",
      "Test R^2 score: 0.956580288378513\n"
     ]
    },
    {
     "data": {
      "image/png": "[encoded data removed]",
      "text/plain": [
       "<Figure size 720x576 with 2 Axes>"
      ]
     },
     "metadata": {
      "needs_background": "light"
     },
     "output_type": "display_data"
    }
   ],
   "source": [
    "print(f'Evaluering på Testsættet')\n",
    "evaluering(X_test, y_test, name='Test')"
   ]
  },
  {
   "cell_type": "markdown",
   "metadata": {},
   "source": [
    "# Opgave 4"
   ]
  },
  {
   "cell_type": "markdown",
   "metadata": {},
   "source": [
    "## 4.1 - Skriv noget kode som samler de 2 datasæt til ét, sådan at du kun beholder rækker hvor du både kender \"cvr\" og \"t_type\" værdierne.\n",
    "\n",
    "### Svar:\n",
    "\n",
    "Jeg har igen brugt pandas til at læse csv filerne og kan derfor udnytte pandas funktionen til nemt at løse opgaverne.\n",
    "Denne opgave løses ved brug af pd.merge, som udgangspunkt merger den ved et 'inner' produkt, hvilket leverer det ønskede resultat. Det samlede datasæt hedder df_4_1"
   ]
  },
  {
   "cell_type": "code",
   "execution_count": 174,
   "metadata": {},
   "outputs": [],
   "source": [
    "df1 = pd.read_csv(ptf_Opgave4_1, delimiter=',', header=0)\n",
    "df2 = pd.read_csv(prf_Opgave4_2, delimiter=',', header=0)"
   ]
  },
  {
   "cell_type": "code",
   "execution_count": 175,
   "metadata": {},
   "outputs": [
    {
     "data": {
      "text/html": [
       "<div>\n",
       "<style scoped>\n",
       "    .dataframe tbody tr th:only-of-type {\n",
       "        vertical-align: middle;\n",
       "    }\n",
       "\n",
       "    .dataframe tbody tr th {\n",
       "        vertical-align: top;\n",
       "    }\n",
       "\n",
       "    .dataframe thead th {\n",
       "        text-align: right;\n",
       "    }\n",
       "</style>\n",
       "<table border=\"1\" class=\"dataframe\">\n",
       "  <thead>\n",
       "    <tr style=\"text-align: right;\">\n",
       "      <th></th>\n",
       "      <th>id</th>\n",
       "      <th>cvr</th>\n",
       "      <th>beloeb</th>\n",
       "      <th>t_type</th>\n",
       "    </tr>\n",
       "  </thead>\n",
       "  <tbody>\n",
       "    <tr>\n",
       "      <th>0</th>\n",
       "      <td>0</td>\n",
       "      <td>95</td>\n",
       "      <td>3557</td>\n",
       "      <td>D</td>\n",
       "    </tr>\n",
       "    <tr>\n",
       "      <th>1</th>\n",
       "      <td>2</td>\n",
       "      <td>162</td>\n",
       "      <td>7096</td>\n",
       "      <td>D</td>\n",
       "    </tr>\n",
       "    <tr>\n",
       "      <th>2</th>\n",
       "      <td>7</td>\n",
       "      <td>59</td>\n",
       "      <td>9043</td>\n",
       "      <td>A</td>\n",
       "    </tr>\n",
       "    <tr>\n",
       "      <th>3</th>\n",
       "      <td>10</td>\n",
       "      <td>162</td>\n",
       "      <td>7228</td>\n",
       "      <td>C</td>\n",
       "    </tr>\n",
       "    <tr>\n",
       "      <th>4</th>\n",
       "      <td>11</td>\n",
       "      <td>15</td>\n",
       "      <td>3468</td>\n",
       "      <td>A</td>\n",
       "    </tr>\n",
       "    <tr>\n",
       "      <th>...</th>\n",
       "      <td>...</td>\n",
       "      <td>...</td>\n",
       "      <td>...</td>\n",
       "      <td>...</td>\n",
       "    </tr>\n",
       "    <tr>\n",
       "      <th>322</th>\n",
       "      <td>982</td>\n",
       "      <td>55</td>\n",
       "      <td>9670</td>\n",
       "      <td>E</td>\n",
       "    </tr>\n",
       "    <tr>\n",
       "      <th>323</th>\n",
       "      <td>985</td>\n",
       "      <td>72</td>\n",
       "      <td>5487</td>\n",
       "      <td>A</td>\n",
       "    </tr>\n",
       "    <tr>\n",
       "      <th>324</th>\n",
       "      <td>990</td>\n",
       "      <td>63</td>\n",
       "      <td>7055</td>\n",
       "      <td>E</td>\n",
       "    </tr>\n",
       "    <tr>\n",
       "      <th>325</th>\n",
       "      <td>991</td>\n",
       "      <td>86</td>\n",
       "      <td>1057</td>\n",
       "      <td>E</td>\n",
       "    </tr>\n",
       "    <tr>\n",
       "      <th>326</th>\n",
       "      <td>997</td>\n",
       "      <td>134</td>\n",
       "      <td>4088</td>\n",
       "      <td>B</td>\n",
       "    </tr>\n",
       "  </tbody>\n",
       "</table>\n",
       "<p>327 rows × 4 columns</p>\n",
       "</div>"
      ],
      "text/plain": [
       "      id  cvr  beloeb t_type\n",
       "0      0   95    3557      D\n",
       "1      2  162    7096      D\n",
       "2      7   59    9043      A\n",
       "3     10  162    7228      C\n",
       "4     11   15    3468      A\n",
       "..   ...  ...     ...    ...\n",
       "322  982   55    9670      E\n",
       "323  985   72    5487      A\n",
       "324  990   63    7055      E\n",
       "325  991   86    1057      E\n",
       "326  997  134    4088      B\n",
       "\n",
       "[327 rows x 4 columns]"
      ]
     },
     "execution_count": 175,
     "metadata": {},
     "output_type": "execute_result"
    }
   ],
   "source": [
    "df_4_1 = pd.merge(df1, df2)\n",
    "df_4_1"
   ]
  },
  {
   "cell_type": "markdown",
   "metadata": {},
   "source": [
    "## 4.2 - Skriv noget kode som samler de 2 datasæt til ét, sådan at du beholder alle rækker hvor du bare kender mindst én af værdierne \"cvr\" eller \"t_type\".\n",
    "\n",
    "### Svar:\n",
    "\n",
    "Jeg bruger igen pd.merge, dog denne gang med metoden 'outer', som leverer det ønskede resultat. Det samlede datasæt hedder df_4_2"
   ]
  },
  {
   "cell_type": "code",
   "execution_count": 176,
   "metadata": {},
   "outputs": [
    {
     "data": {
      "text/html": [
       "<div>\n",
       "<style scoped>\n",
       "    .dataframe tbody tr th:only-of-type {\n",
       "        vertical-align: middle;\n",
       "    }\n",
       "\n",
       "    .dataframe tbody tr th {\n",
       "        vertical-align: top;\n",
       "    }\n",
       "\n",
       "    .dataframe thead th {\n",
       "        text-align: right;\n",
       "    }\n",
       "</style>\n",
       "<table border=\"1\" class=\"dataframe\">\n",
       "  <thead>\n",
       "    <tr style=\"text-align: right;\">\n",
       "      <th></th>\n",
       "      <th>id</th>\n",
       "      <th>cvr</th>\n",
       "      <th>beloeb</th>\n",
       "      <th>t_type</th>\n",
       "    </tr>\n",
       "  </thead>\n",
       "  <tbody>\n",
       "    <tr>\n",
       "      <th>0</th>\n",
       "      <td>0</td>\n",
       "      <td>95.0</td>\n",
       "      <td>3557.0</td>\n",
       "      <td>D</td>\n",
       "    </tr>\n",
       "    <tr>\n",
       "      <th>1</th>\n",
       "      <td>1</td>\n",
       "      <td>85.0</td>\n",
       "      <td>1842.0</td>\n",
       "      <td>NaN</td>\n",
       "    </tr>\n",
       "    <tr>\n",
       "      <th>2</th>\n",
       "      <td>2</td>\n",
       "      <td>162.0</td>\n",
       "      <td>7096.0</td>\n",
       "      <td>D</td>\n",
       "    </tr>\n",
       "    <tr>\n",
       "      <th>3</th>\n",
       "      <td>3</td>\n",
       "      <td>94.0</td>\n",
       "      <td>4276.0</td>\n",
       "      <td>NaN</td>\n",
       "    </tr>\n",
       "    <tr>\n",
       "      <th>4</th>\n",
       "      <td>4</td>\n",
       "      <td>173.0</td>\n",
       "      <td>5658.0</td>\n",
       "      <td>NaN</td>\n",
       "    </tr>\n",
       "    <tr>\n",
       "      <th>...</th>\n",
       "      <td>...</td>\n",
       "      <td>...</td>\n",
       "      <td>...</td>\n",
       "      <td>...</td>\n",
       "    </tr>\n",
       "    <tr>\n",
       "      <th>1668</th>\n",
       "      <td>2194</td>\n",
       "      <td>NaN</td>\n",
       "      <td>NaN</td>\n",
       "      <td>E</td>\n",
       "    </tr>\n",
       "    <tr>\n",
       "      <th>1669</th>\n",
       "      <td>2468</td>\n",
       "      <td>NaN</td>\n",
       "      <td>NaN</td>\n",
       "      <td>B</td>\n",
       "    </tr>\n",
       "    <tr>\n",
       "      <th>1670</th>\n",
       "      <td>1271</td>\n",
       "      <td>NaN</td>\n",
       "      <td>NaN</td>\n",
       "      <td>E</td>\n",
       "    </tr>\n",
       "    <tr>\n",
       "      <th>1671</th>\n",
       "      <td>2426</td>\n",
       "      <td>NaN</td>\n",
       "      <td>NaN</td>\n",
       "      <td>C</td>\n",
       "    </tr>\n",
       "    <tr>\n",
       "      <th>1672</th>\n",
       "      <td>2552</td>\n",
       "      <td>NaN</td>\n",
       "      <td>NaN</td>\n",
       "      <td>A</td>\n",
       "    </tr>\n",
       "  </tbody>\n",
       "</table>\n",
       "<p>1673 rows × 4 columns</p>\n",
       "</div>"
      ],
      "text/plain": [
       "        id    cvr  beloeb t_type\n",
       "0        0   95.0  3557.0      D\n",
       "1        1   85.0  1842.0    NaN\n",
       "2        2  162.0  7096.0      D\n",
       "3        3   94.0  4276.0    NaN\n",
       "4        4  173.0  5658.0    NaN\n",
       "...    ...    ...     ...    ...\n",
       "1668  2194    NaN     NaN      E\n",
       "1669  2468    NaN     NaN      B\n",
       "1670  1271    NaN     NaN      E\n",
       "1671  2426    NaN     NaN      C\n",
       "1672  2552    NaN     NaN      A\n",
       "\n",
       "[1673 rows x 4 columns]"
      ]
     },
     "execution_count": 176,
     "metadata": {},
     "output_type": "execute_result"
    }
   ],
   "source": [
    "df_4_2 = pd.merge(df1, df2, 'outer')\n",
    "df_4_2"
   ]
  },
  {
   "cell_type": "markdown",
   "metadata": {},
   "source": [
    "## 4.3 - Skriv noget kode som samler de 2 datasæt til ét, sådan at du beholder alle rækker hvor du kender præcis én af værdierne \"cvr\" eller \"t_type\", men ikke begge.\n",
    "\n",
    "### Svar:\n",
    "\n",
    "Jeg kunne ikke finde nogen ligeså elegant måde at løse denne opgave på, og måtte desværre nøjes med at fjerne de 'id' værdier der både har en \"cvr\" og \"t_type\" værdi fra den 'outer' mergede dataframe. Det samlede datasæt hedder df_4_3"
   ]
  },
  {
   "cell_type": "code",
   "execution_count": 177,
   "metadata": {},
   "outputs": [
    {
     "data": {
      "text/html": [
       "<div>\n",
       "<style scoped>\n",
       "    .dataframe tbody tr th:only-of-type {\n",
       "        vertical-align: middle;\n",
       "    }\n",
       "\n",
       "    .dataframe tbody tr th {\n",
       "        vertical-align: top;\n",
       "    }\n",
       "\n",
       "    .dataframe thead th {\n",
       "        text-align: right;\n",
       "    }\n",
       "</style>\n",
       "<table border=\"1\" class=\"dataframe\">\n",
       "  <thead>\n",
       "    <tr style=\"text-align: right;\">\n",
       "      <th></th>\n",
       "      <th>id</th>\n",
       "      <th>cvr</th>\n",
       "      <th>beloeb</th>\n",
       "      <th>t_type</th>\n",
       "    </tr>\n",
       "  </thead>\n",
       "  <tbody>\n",
       "    <tr>\n",
       "      <th>1</th>\n",
       "      <td>1</td>\n",
       "      <td>85.0</td>\n",
       "      <td>1842.0</td>\n",
       "      <td>NaN</td>\n",
       "    </tr>\n",
       "    <tr>\n",
       "      <th>3</th>\n",
       "      <td>3</td>\n",
       "      <td>94.0</td>\n",
       "      <td>4276.0</td>\n",
       "      <td>NaN</td>\n",
       "    </tr>\n",
       "    <tr>\n",
       "      <th>4</th>\n",
       "      <td>4</td>\n",
       "      <td>173.0</td>\n",
       "      <td>5658.0</td>\n",
       "      <td>NaN</td>\n",
       "    </tr>\n",
       "    <tr>\n",
       "      <th>5</th>\n",
       "      <td>5</td>\n",
       "      <td>179.0</td>\n",
       "      <td>7019.0</td>\n",
       "      <td>NaN</td>\n",
       "    </tr>\n",
       "    <tr>\n",
       "      <th>6</th>\n",
       "      <td>6</td>\n",
       "      <td>169.0</td>\n",
       "      <td>8267.0</td>\n",
       "      <td>NaN</td>\n",
       "    </tr>\n",
       "    <tr>\n",
       "      <th>...</th>\n",
       "      <td>...</td>\n",
       "      <td>...</td>\n",
       "      <td>...</td>\n",
       "      <td>...</td>\n",
       "    </tr>\n",
       "    <tr>\n",
       "      <th>1668</th>\n",
       "      <td>2194</td>\n",
       "      <td>NaN</td>\n",
       "      <td>NaN</td>\n",
       "      <td>E</td>\n",
       "    </tr>\n",
       "    <tr>\n",
       "      <th>1669</th>\n",
       "      <td>2468</td>\n",
       "      <td>NaN</td>\n",
       "      <td>NaN</td>\n",
       "      <td>B</td>\n",
       "    </tr>\n",
       "    <tr>\n",
       "      <th>1670</th>\n",
       "      <td>1271</td>\n",
       "      <td>NaN</td>\n",
       "      <td>NaN</td>\n",
       "      <td>E</td>\n",
       "    </tr>\n",
       "    <tr>\n",
       "      <th>1671</th>\n",
       "      <td>2426</td>\n",
       "      <td>NaN</td>\n",
       "      <td>NaN</td>\n",
       "      <td>C</td>\n",
       "    </tr>\n",
       "    <tr>\n",
       "      <th>1672</th>\n",
       "      <td>2552</td>\n",
       "      <td>NaN</td>\n",
       "      <td>NaN</td>\n",
       "      <td>A</td>\n",
       "    </tr>\n",
       "  </tbody>\n",
       "</table>\n",
       "<p>1346 rows × 4 columns</p>\n",
       "</div>"
      ],
      "text/plain": [
       "        id    cvr  beloeb t_type\n",
       "1        1   85.0  1842.0    NaN\n",
       "3        3   94.0  4276.0    NaN\n",
       "4        4  173.0  5658.0    NaN\n",
       "5        5  179.0  7019.0    NaN\n",
       "6        6  169.0  8267.0    NaN\n",
       "...    ...    ...     ...    ...\n",
       "1668  2194    NaN     NaN      E\n",
       "1669  2468    NaN     NaN      B\n",
       "1670  1271    NaN     NaN      E\n",
       "1671  2426    NaN     NaN      C\n",
       "1672  2552    NaN     NaN      A\n",
       "\n",
       "[1346 rows x 4 columns]"
      ]
     },
     "execution_count": 177,
     "metadata": {},
     "output_type": "execute_result"
    }
   ],
   "source": [
    "ids_to_drop = pd.merge(df1, df2)['id']\n",
    "df_4_3 = pd.merge(df1, df2, 'outer')\n",
    "df_4_3 = df_4_3.drop(df3.loc[ids_to_drop].index, axis='index')\n",
    "df_4_3"
   ]
  },
  {
   "cell_type": "markdown",
   "metadata": {},
   "source": [
    "## 4.4 - I denne opgave skal du tage udgangspunkt i det joinede datasæt du beregnede i første delopgave. Skriv noget kode som udregner det samlede beløb for hver virksomhed.\n",
    "\n",
    "### Svar:\n",
    "\n",
    "For at løse dette fandt jeg de unikke cvr numrer og lavede derfra en dataframe der indeholder en 'cvr', 'samlet_beloeb', og 't_types kolonne. Herfra kan man altså finde det samlede beløb en virksomhed har lavet transaktioner for ved at spørge df_4_4.loc[df_4_4['cvr'] == \\*ønsket cvr\\*, 'samlet_beloeb']."
   ]
  },
  {
   "cell_type": "code",
   "execution_count": 178,
   "metadata": {},
   "outputs": [],
   "source": [
    "unique_cvr = pd.Series.unique(df_4_1['cvr'])\n",
    "virk_data = {'cvr':[], 'samlet_beloeb': [], 't_types': []}\n",
    "for cvr in unique_cvr:\n",
    "    virk_data['cvr'].append(cvr)\n",
    "    virk_data['samlet_beloeb'].append(df_4_1.loc[df_4_1['cvr'] == cvr, 'beloeb'].sum())\n",
    "    virk_data['t_types'].append(list(df_4_1.loc[df_4_1['cvr'] == cvr, 't_type']))\n",
    "\n",
    "df_4_4 = pd.DataFrame(data=virk_data)"
   ]
  },
  {
   "cell_type": "code",
   "execution_count": 179,
   "metadata": {},
   "outputs": [
    {
     "data": {
      "text/html": [
       "<div>\n",
       "<style scoped>\n",
       "    .dataframe tbody tr th:only-of-type {\n",
       "        vertical-align: middle;\n",
       "    }\n",
       "\n",
       "    .dataframe tbody tr th {\n",
       "        vertical-align: top;\n",
       "    }\n",
       "\n",
       "    .dataframe thead th {\n",
       "        text-align: right;\n",
       "    }\n",
       "</style>\n",
       "<table border=\"1\" class=\"dataframe\">\n",
       "  <thead>\n",
       "    <tr style=\"text-align: right;\">\n",
       "      <th></th>\n",
       "      <th>cvr</th>\n",
       "      <th>samlet_beloeb</th>\n",
       "      <th>t_types</th>\n",
       "    </tr>\n",
       "  </thead>\n",
       "  <tbody>\n",
       "    <tr>\n",
       "      <th>0</th>\n",
       "      <td>95</td>\n",
       "      <td>5034</td>\n",
       "      <td>[D, B]</td>\n",
       "    </tr>\n",
       "    <tr>\n",
       "      <th>1</th>\n",
       "      <td>162</td>\n",
       "      <td>26333</td>\n",
       "      <td>[D, C, E, D]</td>\n",
       "    </tr>\n",
       "    <tr>\n",
       "      <th>2</th>\n",
       "      <td>59</td>\n",
       "      <td>14486</td>\n",
       "      <td>[A, A]</td>\n",
       "    </tr>\n",
       "    <tr>\n",
       "      <th>3</th>\n",
       "      <td>15</td>\n",
       "      <td>3468</td>\n",
       "      <td>[A]</td>\n",
       "    </tr>\n",
       "    <tr>\n",
       "      <th>4</th>\n",
       "      <td>190</td>\n",
       "      <td>5514</td>\n",
       "      <td>[D]</td>\n",
       "    </tr>\n",
       "    <tr>\n",
       "      <th>...</th>\n",
       "      <td>...</td>\n",
       "      <td>...</td>\n",
       "      <td>...</td>\n",
       "    </tr>\n",
       "    <tr>\n",
       "      <th>158</th>\n",
       "      <td>83</td>\n",
       "      <td>4809</td>\n",
       "      <td>[A]</td>\n",
       "    </tr>\n",
       "    <tr>\n",
       "      <th>159</th>\n",
       "      <td>58</td>\n",
       "      <td>9765</td>\n",
       "      <td>[C]</td>\n",
       "    </tr>\n",
       "    <tr>\n",
       "      <th>160</th>\n",
       "      <td>146</td>\n",
       "      <td>9495</td>\n",
       "      <td>[B]</td>\n",
       "    </tr>\n",
       "    <tr>\n",
       "      <th>161</th>\n",
       "      <td>69</td>\n",
       "      <td>5097</td>\n",
       "      <td>[A]</td>\n",
       "    </tr>\n",
       "    <tr>\n",
       "      <th>162</th>\n",
       "      <td>158</td>\n",
       "      <td>6358</td>\n",
       "      <td>[D]</td>\n",
       "    </tr>\n",
       "  </tbody>\n",
       "</table>\n",
       "<p>163 rows × 3 columns</p>\n",
       "</div>"
      ],
      "text/plain": [
       "     cvr  samlet_beloeb       t_types\n",
       "0     95           5034        [D, B]\n",
       "1    162          26333  [D, C, E, D]\n",
       "2     59          14486        [A, A]\n",
       "3     15           3468           [A]\n",
       "4    190           5514           [D]\n",
       "..   ...            ...           ...\n",
       "158   83           4809           [A]\n",
       "159   58           9765           [C]\n",
       "160  146           9495           [B]\n",
       "161   69           5097           [A]\n",
       "162  158           6358           [D]\n",
       "\n",
       "[163 rows x 3 columns]"
      ]
     },
     "execution_count": 179,
     "metadata": {},
     "output_type": "execute_result"
    }
   ],
   "source": [
    "df_4_4"
   ]
  },
  {
   "cell_type": "code",
   "execution_count": 180,
   "metadata": {},
   "outputs": [
    {
     "data": {
      "text/plain": [
       "160    9495\n",
       "Name: samlet_beloeb, dtype: int64"
      ]
     },
     "execution_count": 180,
     "metadata": {},
     "output_type": "execute_result"
    }
   ],
   "source": [
    "df_4_4.loc[df_4_4['cvr'] == 146, 'samlet_beloeb']"
   ]
  },
  {
   "cell_type": "markdown",
   "metadata": {},
   "source": [
    "## 4.5 - I denne opgave skal du tage udgangspunkt i det joinede datasæt du udregnede i første delopgave. Skriv noget kode som udregner en ny kolonne til datasættet. Kolonnen skal angive hvor sjælden den givne type transaktion er for en given virksomhed.\n",
    "\n",
    "### Svar:\n",
    "\n",
    "DataFramen fra sidste opgave er en stor hjælp i denne opgave, da jeg allerede har adgang til en liste over tranaktionstyper hver virksomhed har brugt. Det kan jeg bruge til at lave en encoding for hver virksomhed, t_type -> rarity. Denne encoding gemmes i et dict og kolonnen tilføjes til df_4_1 ved at loope over den eksisterende dataframe.\n",
    "\n",
    "Jeg er lidt ærgerlig over at have brugt Pandas til opgave 4. At læse csv filer i python er lidt bøvlet, men kunne sagtens løses ved brug af en csv reader og lidt flere skridt. Men det er trods alt en af Pythons styrker, at jeg findes en masse pakker der kan en masse fede ting."
   ]
  },
  {
   "cell_type": "code",
   "execution_count": 181,
   "metadata": {},
   "outputs": [],
   "source": [
    "def fraction_of_t_types(lis):\n",
    "    return {x: lis.count(x)/len(lis) for x in set(lis)}"
   ]
  },
  {
   "cell_type": "code",
   "execution_count": 182,
   "metadata": {},
   "outputs": [],
   "source": [
    "t_type_fraction = {}\n",
    "for cvr, t_types in zip(df_4_4['cvr'], df_4_4['t_types']):\n",
    "    t_type_fraction[cvr] = fraction_of_t_types(t_types)"
   ]
  },
  {
   "cell_type": "code",
   "execution_count": 183,
   "metadata": {},
   "outputs": [],
   "source": [
    "df_4_1['t_type_rarity'] = [t_type_fraction[x][y] for x, y in zip(df_4_1['cvr'], df_4_1['t_type'])]"
   ]
  },
  {
   "cell_type": "code",
   "execution_count": 184,
   "metadata": {},
   "outputs": [
    {
     "data": {
      "text/html": [
       "<div>\n",
       "<style scoped>\n",
       "    .dataframe tbody tr th:only-of-type {\n",
       "        vertical-align: middle;\n",
       "    }\n",
       "\n",
       "    .dataframe tbody tr th {\n",
       "        vertical-align: top;\n",
       "    }\n",
       "\n",
       "    .dataframe thead th {\n",
       "        text-align: right;\n",
       "    }\n",
       "</style>\n",
       "<table border=\"1\" class=\"dataframe\">\n",
       "  <thead>\n",
       "    <tr style=\"text-align: right;\">\n",
       "      <th></th>\n",
       "      <th>id</th>\n",
       "      <th>cvr</th>\n",
       "      <th>beloeb</th>\n",
       "      <th>t_type</th>\n",
       "      <th>t_type_rarity</th>\n",
       "    </tr>\n",
       "  </thead>\n",
       "  <tbody>\n",
       "    <tr>\n",
       "      <th>0</th>\n",
       "      <td>0</td>\n",
       "      <td>95</td>\n",
       "      <td>3557</td>\n",
       "      <td>D</td>\n",
       "      <td>0.500000</td>\n",
       "    </tr>\n",
       "    <tr>\n",
       "      <th>1</th>\n",
       "      <td>2</td>\n",
       "      <td>162</td>\n",
       "      <td>7096</td>\n",
       "      <td>D</td>\n",
       "      <td>0.500000</td>\n",
       "    </tr>\n",
       "    <tr>\n",
       "      <th>2</th>\n",
       "      <td>7</td>\n",
       "      <td>59</td>\n",
       "      <td>9043</td>\n",
       "      <td>A</td>\n",
       "      <td>1.000000</td>\n",
       "    </tr>\n",
       "    <tr>\n",
       "      <th>3</th>\n",
       "      <td>10</td>\n",
       "      <td>162</td>\n",
       "      <td>7228</td>\n",
       "      <td>C</td>\n",
       "      <td>0.250000</td>\n",
       "    </tr>\n",
       "    <tr>\n",
       "      <th>4</th>\n",
       "      <td>11</td>\n",
       "      <td>15</td>\n",
       "      <td>3468</td>\n",
       "      <td>A</td>\n",
       "      <td>1.000000</td>\n",
       "    </tr>\n",
       "    <tr>\n",
       "      <th>...</th>\n",
       "      <td>...</td>\n",
       "      <td>...</td>\n",
       "      <td>...</td>\n",
       "      <td>...</td>\n",
       "      <td>...</td>\n",
       "    </tr>\n",
       "    <tr>\n",
       "      <th>322</th>\n",
       "      <td>982</td>\n",
       "      <td>55</td>\n",
       "      <td>9670</td>\n",
       "      <td>E</td>\n",
       "      <td>0.500000</td>\n",
       "    </tr>\n",
       "    <tr>\n",
       "      <th>323</th>\n",
       "      <td>985</td>\n",
       "      <td>72</td>\n",
       "      <td>5487</td>\n",
       "      <td>A</td>\n",
       "      <td>0.333333</td>\n",
       "    </tr>\n",
       "    <tr>\n",
       "      <th>324</th>\n",
       "      <td>990</td>\n",
       "      <td>63</td>\n",
       "      <td>7055</td>\n",
       "      <td>E</td>\n",
       "      <td>0.500000</td>\n",
       "    </tr>\n",
       "    <tr>\n",
       "      <th>325</th>\n",
       "      <td>991</td>\n",
       "      <td>86</td>\n",
       "      <td>1057</td>\n",
       "      <td>E</td>\n",
       "      <td>0.666667</td>\n",
       "    </tr>\n",
       "    <tr>\n",
       "      <th>326</th>\n",
       "      <td>997</td>\n",
       "      <td>134</td>\n",
       "      <td>4088</td>\n",
       "      <td>B</td>\n",
       "      <td>0.500000</td>\n",
       "    </tr>\n",
       "  </tbody>\n",
       "</table>\n",
       "<p>327 rows × 5 columns</p>\n",
       "</div>"
      ],
      "text/plain": [
       "      id  cvr  beloeb t_type  t_type_rarity\n",
       "0      0   95    3557      D       0.500000\n",
       "1      2  162    7096      D       0.500000\n",
       "2      7   59    9043      A       1.000000\n",
       "3     10  162    7228      C       0.250000\n",
       "4     11   15    3468      A       1.000000\n",
       "..   ...  ...     ...    ...            ...\n",
       "322  982   55    9670      E       0.500000\n",
       "323  985   72    5487      A       0.333333\n",
       "324  990   63    7055      E       0.500000\n",
       "325  991   86    1057      E       0.666667\n",
       "326  997  134    4088      B       0.500000\n",
       "\n",
       "[327 rows x 5 columns]"
      ]
     },
     "execution_count": 184,
     "metadata": {},
     "output_type": "execute_result"
    }
   ],
   "source": [
    "df_4_1"
   ]
  }
 ],
 "metadata": {
  "kernelspec": {
   "display_name": "Python 3",
   "language": "python",
   "name": "python3"
  },
  "language_info": {
   "codemirror_mode": {
    "name": "ipython",
    "version": 3
   },
   "file_extension": ".py",
   "mimetype": "text/x-python",
   "name": "python",
   "nbconvert_exporter": "python",
   "pygments_lexer": "ipython3",
   "version": "3.7.6"
  }
 },
 "nbformat": 4,
 "nbformat_minor": 4
}
